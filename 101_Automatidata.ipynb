{
 "cells": [
  {
   "cell_type": "markdown",
   "metadata": {},
   "source": [
    "Automaticdata Project!\n",
    "\n",
    "1. First I will investigate and understand the data"
   ]
  },
  {
   "cell_type": "code",
   "execution_count": 204,
   "metadata": {},
   "outputs": [],
   "source": [
    "# importing packages\n",
    "import pandas as pd\n",
    "import numpy as np\n",
    "import matplotlib.pyplot as plt\n",
    "import seaborn as sns"
   ]
  },
  {
   "cell_type": "code",
   "execution_count": 205,
   "metadata": {},
   "outputs": [
    {
     "name": "stderr",
     "output_type": "stream",
     "text": [
      "C:\\Users\\tharu\\AppData\\Local\\Temp\\ipykernel_12596\\340658630.py:2: DtypeWarning: Columns (6) have mixed types. Specify dtype option on import or set low_memory=False.\n",
      "  df = pd.read_csv('Data/yellow_tripdata_2020-01.csv')\n"
     ]
    },
    {
     "data": {
      "text/html": [
       "<div>\n",
       "<style scoped>\n",
       "    .dataframe tbody tr th:only-of-type {\n",
       "        vertical-align: middle;\n",
       "    }\n",
       "\n",
       "    .dataframe tbody tr th {\n",
       "        vertical-align: top;\n",
       "    }\n",
       "\n",
       "    .dataframe thead th {\n",
       "        text-align: right;\n",
       "    }\n",
       "</style>\n",
       "<table border=\"1\" class=\"dataframe\">\n",
       "  <thead>\n",
       "    <tr style=\"text-align: right;\">\n",
       "      <th></th>\n",
       "      <th>VendorID</th>\n",
       "      <th>tpep_pickup_datetime</th>\n",
       "      <th>tpep_dropoff_datetime</th>\n",
       "      <th>passenger_count</th>\n",
       "      <th>trip_distance</th>\n",
       "      <th>RatecodeID</th>\n",
       "      <th>store_and_fwd_flag</th>\n",
       "      <th>PULocationID</th>\n",
       "      <th>DOLocationID</th>\n",
       "      <th>payment_type</th>\n",
       "      <th>fare_amount</th>\n",
       "      <th>extra</th>\n",
       "      <th>mta_tax</th>\n",
       "      <th>tip_amount</th>\n",
       "      <th>tolls_amount</th>\n",
       "      <th>improvement_surcharge</th>\n",
       "      <th>total_amount</th>\n",
       "      <th>congestion_surcharge</th>\n",
       "    </tr>\n",
       "  </thead>\n",
       "  <tbody>\n",
       "    <tr>\n",
       "      <th>0</th>\n",
       "      <td>1.0</td>\n",
       "      <td>2020-01-01 00:28:15</td>\n",
       "      <td>2020-01-01 00:33:03</td>\n",
       "      <td>1.0</td>\n",
       "      <td>1.2</td>\n",
       "      <td>1.0</td>\n",
       "      <td>N</td>\n",
       "      <td>238</td>\n",
       "      <td>239</td>\n",
       "      <td>1.0</td>\n",
       "      <td>6.0</td>\n",
       "      <td>3.0</td>\n",
       "      <td>0.5</td>\n",
       "      <td>1.47</td>\n",
       "      <td>0.0</td>\n",
       "      <td>0.3</td>\n",
       "      <td>11.27</td>\n",
       "      <td>2.5</td>\n",
       "    </tr>\n",
       "    <tr>\n",
       "      <th>1</th>\n",
       "      <td>1.0</td>\n",
       "      <td>2020-01-01 00:35:39</td>\n",
       "      <td>2020-01-01 00:43:04</td>\n",
       "      <td>1.0</td>\n",
       "      <td>1.2</td>\n",
       "      <td>1.0</td>\n",
       "      <td>N</td>\n",
       "      <td>239</td>\n",
       "      <td>238</td>\n",
       "      <td>1.0</td>\n",
       "      <td>7.0</td>\n",
       "      <td>3.0</td>\n",
       "      <td>0.5</td>\n",
       "      <td>1.50</td>\n",
       "      <td>0.0</td>\n",
       "      <td>0.3</td>\n",
       "      <td>12.30</td>\n",
       "      <td>2.5</td>\n",
       "    </tr>\n",
       "    <tr>\n",
       "      <th>2</th>\n",
       "      <td>1.0</td>\n",
       "      <td>2020-01-01 00:47:41</td>\n",
       "      <td>2020-01-01 00:53:52</td>\n",
       "      <td>1.0</td>\n",
       "      <td>0.6</td>\n",
       "      <td>1.0</td>\n",
       "      <td>N</td>\n",
       "      <td>238</td>\n",
       "      <td>238</td>\n",
       "      <td>1.0</td>\n",
       "      <td>6.0</td>\n",
       "      <td>3.0</td>\n",
       "      <td>0.5</td>\n",
       "      <td>1.00</td>\n",
       "      <td>0.0</td>\n",
       "      <td>0.3</td>\n",
       "      <td>10.80</td>\n",
       "      <td>2.5</td>\n",
       "    </tr>\n",
       "    <tr>\n",
       "      <th>3</th>\n",
       "      <td>1.0</td>\n",
       "      <td>2020-01-01 00:55:23</td>\n",
       "      <td>2020-01-01 01:00:14</td>\n",
       "      <td>1.0</td>\n",
       "      <td>0.8</td>\n",
       "      <td>1.0</td>\n",
       "      <td>N</td>\n",
       "      <td>238</td>\n",
       "      <td>151</td>\n",
       "      <td>1.0</td>\n",
       "      <td>5.5</td>\n",
       "      <td>0.5</td>\n",
       "      <td>0.5</td>\n",
       "      <td>1.36</td>\n",
       "      <td>0.0</td>\n",
       "      <td>0.3</td>\n",
       "      <td>8.16</td>\n",
       "      <td>0.0</td>\n",
       "    </tr>\n",
       "    <tr>\n",
       "      <th>4</th>\n",
       "      <td>2.0</td>\n",
       "      <td>2020-01-01 00:01:58</td>\n",
       "      <td>2020-01-01 00:04:16</td>\n",
       "      <td>1.0</td>\n",
       "      <td>0.0</td>\n",
       "      <td>1.0</td>\n",
       "      <td>N</td>\n",
       "      <td>193</td>\n",
       "      <td>193</td>\n",
       "      <td>2.0</td>\n",
       "      <td>3.5</td>\n",
       "      <td>0.5</td>\n",
       "      <td>0.5</td>\n",
       "      <td>0.00</td>\n",
       "      <td>0.0</td>\n",
       "      <td>0.3</td>\n",
       "      <td>4.80</td>\n",
       "      <td>0.0</td>\n",
       "    </tr>\n",
       "  </tbody>\n",
       "</table>\n",
       "</div>"
      ],
      "text/plain": [
       "   VendorID tpep_pickup_datetime tpep_dropoff_datetime  passenger_count  \\\n",
       "0       1.0  2020-01-01 00:28:15   2020-01-01 00:33:03              1.0   \n",
       "1       1.0  2020-01-01 00:35:39   2020-01-01 00:43:04              1.0   \n",
       "2       1.0  2020-01-01 00:47:41   2020-01-01 00:53:52              1.0   \n",
       "3       1.0  2020-01-01 00:55:23   2020-01-01 01:00:14              1.0   \n",
       "4       2.0  2020-01-01 00:01:58   2020-01-01 00:04:16              1.0   \n",
       "\n",
       "   trip_distance  RatecodeID store_and_fwd_flag  PULocationID  DOLocationID  \\\n",
       "0            1.2         1.0                  N           238           239   \n",
       "1            1.2         1.0                  N           239           238   \n",
       "2            0.6         1.0                  N           238           238   \n",
       "3            0.8         1.0                  N           238           151   \n",
       "4            0.0         1.0                  N           193           193   \n",
       "\n",
       "   payment_type  fare_amount  extra  mta_tax  tip_amount  tolls_amount  \\\n",
       "0           1.0          6.0    3.0      0.5        1.47           0.0   \n",
       "1           1.0          7.0    3.0      0.5        1.50           0.0   \n",
       "2           1.0          6.0    3.0      0.5        1.00           0.0   \n",
       "3           1.0          5.5    0.5      0.5        1.36           0.0   \n",
       "4           2.0          3.5    0.5      0.5        0.00           0.0   \n",
       "\n",
       "   improvement_surcharge  total_amount  congestion_surcharge  \n",
       "0                    0.3         11.27                   2.5  \n",
       "1                    0.3         12.30                   2.5  \n",
       "2                    0.3         10.80                   2.5  \n",
       "3                    0.3          8.16                   0.0  \n",
       "4                    0.3          4.80                   0.0  "
      ]
     },
     "execution_count": 205,
     "metadata": {},
     "output_type": "execute_result"
    }
   ],
   "source": [
    "# Understanding the data\n",
    "df = pd.read_csv('Data/yellow_tripdata_2020-01.csv')\n",
    "df.head()"
   ]
  },
  {
   "cell_type": "code",
   "execution_count": 206,
   "metadata": {},
   "outputs": [
    {
     "name": "stdout",
     "output_type": "stream",
     "text": [
      "<class 'pandas.core.frame.DataFrame'>\n",
      "RangeIndex: 6405008 entries, 0 to 6405007\n",
      "Data columns (total 18 columns):\n",
      " #   Column                 Dtype  \n",
      "---  ------                 -----  \n",
      " 0   VendorID               float64\n",
      " 1   tpep_pickup_datetime   object \n",
      " 2   tpep_dropoff_datetime  object \n",
      " 3   passenger_count        float64\n",
      " 4   trip_distance          float64\n",
      " 5   RatecodeID             float64\n",
      " 6   store_and_fwd_flag     object \n",
      " 7   PULocationID           int64  \n",
      " 8   DOLocationID           int64  \n",
      " 9   payment_type           float64\n",
      " 10  fare_amount            float64\n",
      " 11  extra                  float64\n",
      " 12  mta_tax                float64\n",
      " 13  tip_amount             float64\n",
      " 14  tolls_amount           float64\n",
      " 15  improvement_surcharge  float64\n",
      " 16  total_amount           float64\n",
      " 17  congestion_surcharge   float64\n",
      "dtypes: float64(13), int64(2), object(3)\n",
      "memory usage: 879.6+ MB\n"
     ]
    }
   ],
   "source": [
    "df.info()"
   ]
  },
  {
   "cell_type": "code",
   "execution_count": 207,
   "metadata": {},
   "outputs": [
    {
     "data": {
      "text/plain": [
       "VendorID                 6339567\n",
       "tpep_pickup_datetime     6405008\n",
       "tpep_dropoff_datetime    6405008\n",
       "passenger_count          6339567\n",
       "trip_distance            6405008\n",
       "RatecodeID               6339567\n",
       "store_and_fwd_flag       6339567\n",
       "PULocationID             6405008\n",
       "DOLocationID             6405008\n",
       "payment_type             6339567\n",
       "fare_amount              6405008\n",
       "extra                    6405008\n",
       "mta_tax                  6405008\n",
       "tip_amount               6405008\n",
       "tolls_amount             6405008\n",
       "improvement_surcharge    6405008\n",
       "total_amount             6405008\n",
       "congestion_surcharge     6405008\n",
       "dtype: int64"
      ]
     },
     "execution_count": 207,
     "metadata": {},
     "output_type": "execute_result"
    }
   ],
   "source": [
    "# columns with non-null value count\n",
    "df.count()"
   ]
  },
  {
   "cell_type": "code",
   "execution_count": 208,
   "metadata": {},
   "outputs": [
    {
     "data": {
      "text/plain": [
       "VendorID                 65441\n",
       "tpep_pickup_datetime         0\n",
       "tpep_dropoff_datetime        0\n",
       "passenger_count          65441\n",
       "trip_distance                0\n",
       "RatecodeID               65441\n",
       "store_and_fwd_flag       65441\n",
       "PULocationID                 0\n",
       "DOLocationID                 0\n",
       "payment_type             65441\n",
       "fare_amount                  0\n",
       "extra                        0\n",
       "mta_tax                      0\n",
       "tip_amount                   0\n",
       "tolls_amount                 0\n",
       "improvement_surcharge        0\n",
       "total_amount                 0\n",
       "congestion_surcharge         0\n",
       "dtype: int64"
      ]
     },
     "execution_count": 208,
     "metadata": {},
     "output_type": "execute_result"
    }
   ],
   "source": [
    "# columns with null value count\n",
    "df.isnull().sum()"
   ]
  },
  {
   "cell_type": "code",
   "execution_count": 209,
   "metadata": {},
   "outputs": [
    {
     "data": {
      "text/html": [
       "<div>\n",
       "<style scoped>\n",
       "    .dataframe tbody tr th:only-of-type {\n",
       "        vertical-align: middle;\n",
       "    }\n",
       "\n",
       "    .dataframe tbody tr th {\n",
       "        vertical-align: top;\n",
       "    }\n",
       "\n",
       "    .dataframe thead th {\n",
       "        text-align: right;\n",
       "    }\n",
       "</style>\n",
       "<table border=\"1\" class=\"dataframe\">\n",
       "  <thead>\n",
       "    <tr style=\"text-align: right;\">\n",
       "      <th></th>\n",
       "      <th>VendorID</th>\n",
       "      <th>passenger_count</th>\n",
       "      <th>trip_distance</th>\n",
       "      <th>RatecodeID</th>\n",
       "      <th>PULocationID</th>\n",
       "      <th>DOLocationID</th>\n",
       "      <th>payment_type</th>\n",
       "      <th>fare_amount</th>\n",
       "      <th>extra</th>\n",
       "      <th>mta_tax</th>\n",
       "      <th>tip_amount</th>\n",
       "      <th>tolls_amount</th>\n",
       "      <th>improvement_surcharge</th>\n",
       "      <th>total_amount</th>\n",
       "      <th>congestion_surcharge</th>\n",
       "    </tr>\n",
       "  </thead>\n",
       "  <tbody>\n",
       "    <tr>\n",
       "      <th>count</th>\n",
       "      <td>6.339567e+06</td>\n",
       "      <td>6.339567e+06</td>\n",
       "      <td>6.405008e+06</td>\n",
       "      <td>6.339567e+06</td>\n",
       "      <td>6.405008e+06</td>\n",
       "      <td>6.405008e+06</td>\n",
       "      <td>6.339567e+06</td>\n",
       "      <td>6.405008e+06</td>\n",
       "      <td>6.405008e+06</td>\n",
       "      <td>6.405008e+06</td>\n",
       "      <td>6.405008e+06</td>\n",
       "      <td>6.405008e+06</td>\n",
       "      <td>6.405008e+06</td>\n",
       "      <td>6.405008e+06</td>\n",
       "      <td>6.405008e+06</td>\n",
       "    </tr>\n",
       "    <tr>\n",
       "      <th>mean</th>\n",
       "      <td>1.669624e+00</td>\n",
       "      <td>1.515333e+00</td>\n",
       "      <td>2.929644e+00</td>\n",
       "      <td>1.059908e+00</td>\n",
       "      <td>1.647323e+02</td>\n",
       "      <td>1.626627e+02</td>\n",
       "      <td>1.270298e+00</td>\n",
       "      <td>1.269411e+01</td>\n",
       "      <td>1.115456e+00</td>\n",
       "      <td>4.923182e-01</td>\n",
       "      <td>2.189342e+00</td>\n",
       "      <td>3.488395e-01</td>\n",
       "      <td>2.979870e-01</td>\n",
       "      <td>1.866315e+01</td>\n",
       "      <td>2.275662e+00</td>\n",
       "    </tr>\n",
       "    <tr>\n",
       "      <th>std</th>\n",
       "      <td>4.703484e-01</td>\n",
       "      <td>1.151594e+00</td>\n",
       "      <td>8.315911e+01</td>\n",
       "      <td>8.118432e-01</td>\n",
       "      <td>6.554374e+01</td>\n",
       "      <td>6.991261e+01</td>\n",
       "      <td>4.739985e-01</td>\n",
       "      <td>1.212730e+01</td>\n",
       "      <td>1.260054e+00</td>\n",
       "      <td>7.374184e-02</td>\n",
       "      <td>2.760028e+00</td>\n",
       "      <td>1.766978e+00</td>\n",
       "      <td>3.385937e-02</td>\n",
       "      <td>1.475736e+01</td>\n",
       "      <td>7.352646e-01</td>\n",
       "    </tr>\n",
       "    <tr>\n",
       "      <th>min</th>\n",
       "      <td>1.000000e+00</td>\n",
       "      <td>0.000000e+00</td>\n",
       "      <td>-3.062000e+01</td>\n",
       "      <td>1.000000e+00</td>\n",
       "      <td>1.000000e+00</td>\n",
       "      <td>1.000000e+00</td>\n",
       "      <td>1.000000e+00</td>\n",
       "      <td>-1.238000e+03</td>\n",
       "      <td>-2.700000e+01</td>\n",
       "      <td>-5.000000e-01</td>\n",
       "      <td>-9.100000e+01</td>\n",
       "      <td>-3.574000e+01</td>\n",
       "      <td>-3.000000e-01</td>\n",
       "      <td>-1.242300e+03</td>\n",
       "      <td>-2.500000e+00</td>\n",
       "    </tr>\n",
       "    <tr>\n",
       "      <th>25%</th>\n",
       "      <td>1.000000e+00</td>\n",
       "      <td>1.000000e+00</td>\n",
       "      <td>9.600000e-01</td>\n",
       "      <td>1.000000e+00</td>\n",
       "      <td>1.320000e+02</td>\n",
       "      <td>1.130000e+02</td>\n",
       "      <td>1.000000e+00</td>\n",
       "      <td>6.500000e+00</td>\n",
       "      <td>0.000000e+00</td>\n",
       "      <td>5.000000e-01</td>\n",
       "      <td>0.000000e+00</td>\n",
       "      <td>0.000000e+00</td>\n",
       "      <td>3.000000e-01</td>\n",
       "      <td>1.116000e+01</td>\n",
       "      <td>2.500000e+00</td>\n",
       "    </tr>\n",
       "    <tr>\n",
       "      <th>50%</th>\n",
       "      <td>2.000000e+00</td>\n",
       "      <td>1.000000e+00</td>\n",
       "      <td>1.600000e+00</td>\n",
       "      <td>1.000000e+00</td>\n",
       "      <td>1.620000e+02</td>\n",
       "      <td>1.620000e+02</td>\n",
       "      <td>1.000000e+00</td>\n",
       "      <td>9.000000e+00</td>\n",
       "      <td>5.000000e-01</td>\n",
       "      <td>5.000000e-01</td>\n",
       "      <td>1.950000e+00</td>\n",
       "      <td>0.000000e+00</td>\n",
       "      <td>3.000000e-01</td>\n",
       "      <td>1.430000e+01</td>\n",
       "      <td>2.500000e+00</td>\n",
       "    </tr>\n",
       "    <tr>\n",
       "      <th>75%</th>\n",
       "      <td>2.000000e+00</td>\n",
       "      <td>2.000000e+00</td>\n",
       "      <td>2.930000e+00</td>\n",
       "      <td>1.000000e+00</td>\n",
       "      <td>2.340000e+02</td>\n",
       "      <td>2.340000e+02</td>\n",
       "      <td>2.000000e+00</td>\n",
       "      <td>1.400000e+01</td>\n",
       "      <td>2.500000e+00</td>\n",
       "      <td>5.000000e-01</td>\n",
       "      <td>2.860000e+00</td>\n",
       "      <td>0.000000e+00</td>\n",
       "      <td>3.000000e-01</td>\n",
       "      <td>1.980000e+01</td>\n",
       "      <td>2.500000e+00</td>\n",
       "    </tr>\n",
       "    <tr>\n",
       "      <th>max</th>\n",
       "      <td>2.000000e+00</td>\n",
       "      <td>9.000000e+00</td>\n",
       "      <td>2.102401e+05</td>\n",
       "      <td>9.900000e+01</td>\n",
       "      <td>2.650000e+02</td>\n",
       "      <td>2.650000e+02</td>\n",
       "      <td>5.000000e+00</td>\n",
       "      <td>4.265000e+03</td>\n",
       "      <td>1.130100e+02</td>\n",
       "      <td>3.080000e+01</td>\n",
       "      <td>1.100000e+03</td>\n",
       "      <td>9.105000e+02</td>\n",
       "      <td>3.000000e-01</td>\n",
       "      <td>4.268300e+03</td>\n",
       "      <td>2.750000e+00</td>\n",
       "    </tr>\n",
       "  </tbody>\n",
       "</table>\n",
       "</div>"
      ],
      "text/plain": [
       "           VendorID  passenger_count  trip_distance    RatecodeID  \\\n",
       "count  6.339567e+06     6.339567e+06   6.405008e+06  6.339567e+06   \n",
       "mean   1.669624e+00     1.515333e+00   2.929644e+00  1.059908e+00   \n",
       "std    4.703484e-01     1.151594e+00   8.315911e+01  8.118432e-01   \n",
       "min    1.000000e+00     0.000000e+00  -3.062000e+01  1.000000e+00   \n",
       "25%    1.000000e+00     1.000000e+00   9.600000e-01  1.000000e+00   \n",
       "50%    2.000000e+00     1.000000e+00   1.600000e+00  1.000000e+00   \n",
       "75%    2.000000e+00     2.000000e+00   2.930000e+00  1.000000e+00   \n",
       "max    2.000000e+00     9.000000e+00   2.102401e+05  9.900000e+01   \n",
       "\n",
       "       PULocationID  DOLocationID  payment_type   fare_amount         extra  \\\n",
       "count  6.405008e+06  6.405008e+06  6.339567e+06  6.405008e+06  6.405008e+06   \n",
       "mean   1.647323e+02  1.626627e+02  1.270298e+00  1.269411e+01  1.115456e+00   \n",
       "std    6.554374e+01  6.991261e+01  4.739985e-01  1.212730e+01  1.260054e+00   \n",
       "min    1.000000e+00  1.000000e+00  1.000000e+00 -1.238000e+03 -2.700000e+01   \n",
       "25%    1.320000e+02  1.130000e+02  1.000000e+00  6.500000e+00  0.000000e+00   \n",
       "50%    1.620000e+02  1.620000e+02  1.000000e+00  9.000000e+00  5.000000e-01   \n",
       "75%    2.340000e+02  2.340000e+02  2.000000e+00  1.400000e+01  2.500000e+00   \n",
       "max    2.650000e+02  2.650000e+02  5.000000e+00  4.265000e+03  1.130100e+02   \n",
       "\n",
       "            mta_tax    tip_amount  tolls_amount  improvement_surcharge  \\\n",
       "count  6.405008e+06  6.405008e+06  6.405008e+06           6.405008e+06   \n",
       "mean   4.923182e-01  2.189342e+00  3.488395e-01           2.979870e-01   \n",
       "std    7.374184e-02  2.760028e+00  1.766978e+00           3.385937e-02   \n",
       "min   -5.000000e-01 -9.100000e+01 -3.574000e+01          -3.000000e-01   \n",
       "25%    5.000000e-01  0.000000e+00  0.000000e+00           3.000000e-01   \n",
       "50%    5.000000e-01  1.950000e+00  0.000000e+00           3.000000e-01   \n",
       "75%    5.000000e-01  2.860000e+00  0.000000e+00           3.000000e-01   \n",
       "max    3.080000e+01  1.100000e+03  9.105000e+02           3.000000e-01   \n",
       "\n",
       "       total_amount  congestion_surcharge  \n",
       "count  6.405008e+06          6.405008e+06  \n",
       "mean   1.866315e+01          2.275662e+00  \n",
       "std    1.475736e+01          7.352646e-01  \n",
       "min   -1.242300e+03         -2.500000e+00  \n",
       "25%    1.116000e+01          2.500000e+00  \n",
       "50%    1.430000e+01          2.500000e+00  \n",
       "75%    1.980000e+01          2.500000e+00  \n",
       "max    4.268300e+03          2.750000e+00  "
      ]
     },
     "execution_count": 209,
     "metadata": {},
     "output_type": "execute_result"
    }
   ],
   "source": [
    "df.describe()"
   ]
  },
  {
   "cell_type": "code",
   "execution_count": 210,
   "metadata": {},
   "outputs": [
    {
     "data": {
      "text/html": [
       "<div>\n",
       "<style scoped>\n",
       "    .dataframe tbody tr th:only-of-type {\n",
       "        vertical-align: middle;\n",
       "    }\n",
       "\n",
       "    .dataframe tbody tr th {\n",
       "        vertical-align: top;\n",
       "    }\n",
       "\n",
       "    .dataframe thead th {\n",
       "        text-align: right;\n",
       "    }\n",
       "</style>\n",
       "<table border=\"1\" class=\"dataframe\">\n",
       "  <thead>\n",
       "    <tr style=\"text-align: right;\">\n",
       "      <th></th>\n",
       "      <th>VendorID</th>\n",
       "      <th>tpep_pickup_datetime</th>\n",
       "      <th>tpep_dropoff_datetime</th>\n",
       "      <th>passenger_count</th>\n",
       "      <th>trip_distance</th>\n",
       "      <th>RatecodeID</th>\n",
       "      <th>store_and_fwd_flag</th>\n",
       "      <th>PULocationID</th>\n",
       "      <th>DOLocationID</th>\n",
       "      <th>payment_type</th>\n",
       "      <th>fare_amount</th>\n",
       "      <th>extra</th>\n",
       "      <th>mta_tax</th>\n",
       "      <th>tip_amount</th>\n",
       "      <th>tolls_amount</th>\n",
       "      <th>improvement_surcharge</th>\n",
       "      <th>total_amount</th>\n",
       "      <th>congestion_surcharge</th>\n",
       "    </tr>\n",
       "  </thead>\n",
       "  <tbody>\n",
       "    <tr>\n",
       "      <th>6398446</th>\n",
       "      <td>NaN</td>\n",
       "      <td>2020-01-28 07:37:00</td>\n",
       "      <td>2020-01-28 08:42:00</td>\n",
       "      <td>NaN</td>\n",
       "      <td>210240.07</td>\n",
       "      <td>NaN</td>\n",
       "      <td>NaN</td>\n",
       "      <td>76</td>\n",
       "      <td>231</td>\n",
       "      <td>NaN</td>\n",
       "      <td>37.77</td>\n",
       "      <td>2.75</td>\n",
       "      <td>0.5</td>\n",
       "      <td>0.00</td>\n",
       "      <td>0.00</td>\n",
       "      <td>0.3</td>\n",
       "      <td>41.32</td>\n",
       "      <td>0.0</td>\n",
       "    </tr>\n",
       "    <tr>\n",
       "      <th>2154680</th>\n",
       "      <td>2.0</td>\n",
       "      <td>2020-01-12 09:19:23</td>\n",
       "      <td>2020-01-12 13:49:59</td>\n",
       "      <td>4.0</td>\n",
       "      <td>262.88</td>\n",
       "      <td>5.0</td>\n",
       "      <td>N</td>\n",
       "      <td>132</td>\n",
       "      <td>265</td>\n",
       "      <td>1.0</td>\n",
       "      <td>600.00</td>\n",
       "      <td>0.00</td>\n",
       "      <td>0.0</td>\n",
       "      <td>0.00</td>\n",
       "      <td>55.55</td>\n",
       "      <td>0.3</td>\n",
       "      <td>658.35</td>\n",
       "      <td>2.5</td>\n",
       "    </tr>\n",
       "    <tr>\n",
       "      <th>565751</th>\n",
       "      <td>2.0</td>\n",
       "      <td>2020-01-04 12:52:02</td>\n",
       "      <td>2020-01-04 17:23:52</td>\n",
       "      <td>4.0</td>\n",
       "      <td>259.22</td>\n",
       "      <td>5.0</td>\n",
       "      <td>N</td>\n",
       "      <td>140</td>\n",
       "      <td>265</td>\n",
       "      <td>2.0</td>\n",
       "      <td>575.00</td>\n",
       "      <td>0.00</td>\n",
       "      <td>0.0</td>\n",
       "      <td>0.00</td>\n",
       "      <td>0.00</td>\n",
       "      <td>0.3</td>\n",
       "      <td>577.80</td>\n",
       "      <td>2.5</td>\n",
       "    </tr>\n",
       "    <tr>\n",
       "      <th>3813213</th>\n",
       "      <td>2.0</td>\n",
       "      <td>2020-01-20 11:31:59</td>\n",
       "      <td>2020-01-20 16:08:25</td>\n",
       "      <td>2.0</td>\n",
       "      <td>241.64</td>\n",
       "      <td>1.0</td>\n",
       "      <td>N</td>\n",
       "      <td>48</td>\n",
       "      <td>265</td>\n",
       "      <td>2.0</td>\n",
       "      <td>614.00</td>\n",
       "      <td>0.00</td>\n",
       "      <td>0.5</td>\n",
       "      <td>0.00</td>\n",
       "      <td>0.00</td>\n",
       "      <td>0.3</td>\n",
       "      <td>617.30</td>\n",
       "      <td>2.5</td>\n",
       "    </tr>\n",
       "    <tr>\n",
       "      <th>1442784</th>\n",
       "      <td>1.0</td>\n",
       "      <td>2020-01-09 00:27:13</td>\n",
       "      <td>2020-01-09 03:37:32</td>\n",
       "      <td>1.0</td>\n",
       "      <td>211.70</td>\n",
       "      <td>5.0</td>\n",
       "      <td>N</td>\n",
       "      <td>161</td>\n",
       "      <td>265</td>\n",
       "      <td>1.0</td>\n",
       "      <td>550.00</td>\n",
       "      <td>0.00</td>\n",
       "      <td>0.0</td>\n",
       "      <td>70.00</td>\n",
       "      <td>0.00</td>\n",
       "      <td>0.3</td>\n",
       "      <td>620.30</td>\n",
       "      <td>0.0</td>\n",
       "    </tr>\n",
       "    <tr>\n",
       "      <th>771402</th>\n",
       "      <td>1.0</td>\n",
       "      <td>2020-01-05 13:45:52</td>\n",
       "      <td>2020-01-05 16:34:09</td>\n",
       "      <td>1.0</td>\n",
       "      <td>168.40</td>\n",
       "      <td>5.0</td>\n",
       "      <td>N</td>\n",
       "      <td>92</td>\n",
       "      <td>265</td>\n",
       "      <td>2.0</td>\n",
       "      <td>575.00</td>\n",
       "      <td>0.00</td>\n",
       "      <td>0.0</td>\n",
       "      <td>0.00</td>\n",
       "      <td>21.12</td>\n",
       "      <td>0.3</td>\n",
       "      <td>596.42</td>\n",
       "      <td>0.0</td>\n",
       "    </tr>\n",
       "    <tr>\n",
       "      <th>3356299</th>\n",
       "      <td>2.0</td>\n",
       "      <td>2020-01-17 19:26:15</td>\n",
       "      <td>2020-01-17 23:13:11</td>\n",
       "      <td>1.0</td>\n",
       "      <td>154.45</td>\n",
       "      <td>4.0</td>\n",
       "      <td>N</td>\n",
       "      <td>262</td>\n",
       "      <td>265</td>\n",
       "      <td>2.0</td>\n",
       "      <td>765.50</td>\n",
       "      <td>1.00</td>\n",
       "      <td>0.5</td>\n",
       "      <td>0.00</td>\n",
       "      <td>0.00</td>\n",
       "      <td>0.3</td>\n",
       "      <td>769.80</td>\n",
       "      <td>2.5</td>\n",
       "    </tr>\n",
       "    <tr>\n",
       "      <th>5443908</th>\n",
       "      <td>1.0</td>\n",
       "      <td>2020-01-28 07:37:43</td>\n",
       "      <td>2020-01-28 12:52:46</td>\n",
       "      <td>1.0</td>\n",
       "      <td>146.40</td>\n",
       "      <td>3.0</td>\n",
       "      <td>N</td>\n",
       "      <td>186</td>\n",
       "      <td>228</td>\n",
       "      <td>1.0</td>\n",
       "      <td>457.50</td>\n",
       "      <td>0.00</td>\n",
       "      <td>0.0</td>\n",
       "      <td>97.88</td>\n",
       "      <td>31.62</td>\n",
       "      <td>0.3</td>\n",
       "      <td>587.30</td>\n",
       "      <td>0.0</td>\n",
       "    </tr>\n",
       "    <tr>\n",
       "      <th>1251389</th>\n",
       "      <td>2.0</td>\n",
       "      <td>2020-01-08 07:36:13</td>\n",
       "      <td>2020-01-08 10:19:15</td>\n",
       "      <td>1.0</td>\n",
       "      <td>124.26</td>\n",
       "      <td>5.0</td>\n",
       "      <td>N</td>\n",
       "      <td>219</td>\n",
       "      <td>265</td>\n",
       "      <td>1.0</td>\n",
       "      <td>270.00</td>\n",
       "      <td>0.00</td>\n",
       "      <td>0.0</td>\n",
       "      <td>0.00</td>\n",
       "      <td>0.00</td>\n",
       "      <td>0.3</td>\n",
       "      <td>270.30</td>\n",
       "      <td>0.0</td>\n",
       "    </tr>\n",
       "    <tr>\n",
       "      <th>4682584</th>\n",
       "      <td>2.0</td>\n",
       "      <td>2020-01-24 13:08:00</td>\n",
       "      <td>2020-01-24 16:22:43</td>\n",
       "      <td>1.0</td>\n",
       "      <td>122.93</td>\n",
       "      <td>1.0</td>\n",
       "      <td>N</td>\n",
       "      <td>265</td>\n",
       "      <td>265</td>\n",
       "      <td>2.0</td>\n",
       "      <td>326.00</td>\n",
       "      <td>0.00</td>\n",
       "      <td>0.5</td>\n",
       "      <td>0.00</td>\n",
       "      <td>6.12</td>\n",
       "      <td>0.3</td>\n",
       "      <td>332.92</td>\n",
       "      <td>0.0</td>\n",
       "    </tr>\n",
       "  </tbody>\n",
       "</table>\n",
       "</div>"
      ],
      "text/plain": [
       "         VendorID tpep_pickup_datetime tpep_dropoff_datetime  passenger_count  \\\n",
       "6398446       NaN  2020-01-28 07:37:00   2020-01-28 08:42:00              NaN   \n",
       "2154680       2.0  2020-01-12 09:19:23   2020-01-12 13:49:59              4.0   \n",
       "565751        2.0  2020-01-04 12:52:02   2020-01-04 17:23:52              4.0   \n",
       "3813213       2.0  2020-01-20 11:31:59   2020-01-20 16:08:25              2.0   \n",
       "1442784       1.0  2020-01-09 00:27:13   2020-01-09 03:37:32              1.0   \n",
       "771402        1.0  2020-01-05 13:45:52   2020-01-05 16:34:09              1.0   \n",
       "3356299       2.0  2020-01-17 19:26:15   2020-01-17 23:13:11              1.0   \n",
       "5443908       1.0  2020-01-28 07:37:43   2020-01-28 12:52:46              1.0   \n",
       "1251389       2.0  2020-01-08 07:36:13   2020-01-08 10:19:15              1.0   \n",
       "4682584       2.0  2020-01-24 13:08:00   2020-01-24 16:22:43              1.0   \n",
       "\n",
       "         trip_distance  RatecodeID store_and_fwd_flag  PULocationID  \\\n",
       "6398446      210240.07         NaN                NaN            76   \n",
       "2154680         262.88         5.0                  N           132   \n",
       "565751          259.22         5.0                  N           140   \n",
       "3813213         241.64         1.0                  N            48   \n",
       "1442784         211.70         5.0                  N           161   \n",
       "771402          168.40         5.0                  N            92   \n",
       "3356299         154.45         4.0                  N           262   \n",
       "5443908         146.40         3.0                  N           186   \n",
       "1251389         124.26         5.0                  N           219   \n",
       "4682584         122.93         1.0                  N           265   \n",
       "\n",
       "         DOLocationID  payment_type  fare_amount  extra  mta_tax  tip_amount  \\\n",
       "6398446           231           NaN        37.77   2.75      0.5        0.00   \n",
       "2154680           265           1.0       600.00   0.00      0.0        0.00   \n",
       "565751            265           2.0       575.00   0.00      0.0        0.00   \n",
       "3813213           265           2.0       614.00   0.00      0.5        0.00   \n",
       "1442784           265           1.0       550.00   0.00      0.0       70.00   \n",
       "771402            265           2.0       575.00   0.00      0.0        0.00   \n",
       "3356299           265           2.0       765.50   1.00      0.5        0.00   \n",
       "5443908           228           1.0       457.50   0.00      0.0       97.88   \n",
       "1251389           265           1.0       270.00   0.00      0.0        0.00   \n",
       "4682584           265           2.0       326.00   0.00      0.5        0.00   \n",
       "\n",
       "         tolls_amount  improvement_surcharge  total_amount  \\\n",
       "6398446          0.00                    0.3         41.32   \n",
       "2154680         55.55                    0.3        658.35   \n",
       "565751           0.00                    0.3        577.80   \n",
       "3813213          0.00                    0.3        617.30   \n",
       "1442784          0.00                    0.3        620.30   \n",
       "771402          21.12                    0.3        596.42   \n",
       "3356299          0.00                    0.3        769.80   \n",
       "5443908         31.62                    0.3        587.30   \n",
       "1251389          0.00                    0.3        270.30   \n",
       "4682584          6.12                    0.3        332.92   \n",
       "\n",
       "         congestion_surcharge  \n",
       "6398446                   0.0  \n",
       "2154680                   2.5  \n",
       "565751                    2.5  \n",
       "3813213                   2.5  \n",
       "1442784                   0.0  \n",
       "771402                    0.0  \n",
       "3356299                   2.5  \n",
       "5443908                   0.0  \n",
       "1251389                   0.0  \n",
       "4682584                   0.0  "
      ]
     },
     "execution_count": 210,
     "metadata": {},
     "output_type": "execute_result"
    }
   ],
   "source": [
    "#sorting the trip_distance from maximum to minimum value\n",
    "df_sort = df.sort_values(by=['trip_distance'],ascending=False)\n",
    "df_sort.head(10)"
   ]
  },
  {
   "cell_type": "code",
   "execution_count": 211,
   "metadata": {},
   "outputs": [
    {
     "data": {
      "text/html": [
       "<div>\n",
       "<style scoped>\n",
       "    .dataframe tbody tr th:only-of-type {\n",
       "        vertical-align: middle;\n",
       "    }\n",
       "\n",
       "    .dataframe tbody tr th {\n",
       "        vertical-align: top;\n",
       "    }\n",
       "\n",
       "    .dataframe thead th {\n",
       "        text-align: right;\n",
       "    }\n",
       "</style>\n",
       "<table border=\"1\" class=\"dataframe\">\n",
       "  <thead>\n",
       "    <tr style=\"text-align: right;\">\n",
       "      <th></th>\n",
       "      <th>VendorID</th>\n",
       "      <th>tpep_pickup_datetime</th>\n",
       "      <th>tpep_dropoff_datetime</th>\n",
       "      <th>passenger_count</th>\n",
       "      <th>trip_distance</th>\n",
       "      <th>RatecodeID</th>\n",
       "      <th>store_and_fwd_flag</th>\n",
       "      <th>PULocationID</th>\n",
       "      <th>DOLocationID</th>\n",
       "      <th>payment_type</th>\n",
       "      <th>fare_amount</th>\n",
       "      <th>extra</th>\n",
       "      <th>mta_tax</th>\n",
       "      <th>tip_amount</th>\n",
       "      <th>tolls_amount</th>\n",
       "      <th>improvement_surcharge</th>\n",
       "      <th>total_amount</th>\n",
       "      <th>congestion_surcharge</th>\n",
       "    </tr>\n",
       "  </thead>\n",
       "  <tbody>\n",
       "    <tr>\n",
       "      <th>4049543</th>\n",
       "      <td>2.0</td>\n",
       "      <td>2020-01-21 15:38:33</td>\n",
       "      <td>2020-01-27 13:43:40</td>\n",
       "      <td>1.0</td>\n",
       "      <td>1.57</td>\n",
       "      <td>1.0</td>\n",
       "      <td>N</td>\n",
       "      <td>186</td>\n",
       "      <td>152</td>\n",
       "      <td>2.0</td>\n",
       "      <td>4265.0</td>\n",
       "      <td>0.0</td>\n",
       "      <td>0.5</td>\n",
       "      <td>0.00</td>\n",
       "      <td>0.00</td>\n",
       "      <td>0.3</td>\n",
       "      <td>4268.30</td>\n",
       "      <td>2.5</td>\n",
       "    </tr>\n",
       "    <tr>\n",
       "      <th>5059294</th>\n",
       "      <td>2.0</td>\n",
       "      <td>2020-01-26 00:51:39</td>\n",
       "      <td>2020-01-28 07:18:59</td>\n",
       "      <td>1.0</td>\n",
       "      <td>58.85</td>\n",
       "      <td>1.0</td>\n",
       "      <td>N</td>\n",
       "      <td>132</td>\n",
       "      <td>7</td>\n",
       "      <td>2.0</td>\n",
       "      <td>1718.5</td>\n",
       "      <td>0.5</td>\n",
       "      <td>0.5</td>\n",
       "      <td>0.00</td>\n",
       "      <td>0.00</td>\n",
       "      <td>0.3</td>\n",
       "      <td>1722.30</td>\n",
       "      <td>2.5</td>\n",
       "    </tr>\n",
       "    <tr>\n",
       "      <th>471401</th>\n",
       "      <td>2.0</td>\n",
       "      <td>2020-01-03 19:29:51</td>\n",
       "      <td>2020-01-05 12:28:15</td>\n",
       "      <td>1.0</td>\n",
       "      <td>8.27</td>\n",
       "      <td>1.0</td>\n",
       "      <td>N</td>\n",
       "      <td>186</td>\n",
       "      <td>152</td>\n",
       "      <td>2.0</td>\n",
       "      <td>1238.0</td>\n",
       "      <td>1.0</td>\n",
       "      <td>0.5</td>\n",
       "      <td>0.00</td>\n",
       "      <td>0.00</td>\n",
       "      <td>0.3</td>\n",
       "      <td>1242.30</td>\n",
       "      <td>2.5</td>\n",
       "    </tr>\n",
       "    <tr>\n",
       "      <th>4268194</th>\n",
       "      <td>2.0</td>\n",
       "      <td>2020-01-22 16:41:24</td>\n",
       "      <td>2020-01-22 16:49:28</td>\n",
       "      <td>1.0</td>\n",
       "      <td>0.55</td>\n",
       "      <td>1.0</td>\n",
       "      <td>N</td>\n",
       "      <td>231</td>\n",
       "      <td>209</td>\n",
       "      <td>1.0</td>\n",
       "      <td>6.5</td>\n",
       "      <td>1.0</td>\n",
       "      <td>0.5</td>\n",
       "      <td>1100.00</td>\n",
       "      <td>0.00</td>\n",
       "      <td>0.3</td>\n",
       "      <td>1110.80</td>\n",
       "      <td>2.5</td>\n",
       "    </tr>\n",
       "    <tr>\n",
       "      <th>1024290</th>\n",
       "      <td>2.0</td>\n",
       "      <td>2020-01-06 22:10:47</td>\n",
       "      <td>2020-01-06 22:10:58</td>\n",
       "      <td>1.0</td>\n",
       "      <td>0.00</td>\n",
       "      <td>5.0</td>\n",
       "      <td>N</td>\n",
       "      <td>33</td>\n",
       "      <td>33</td>\n",
       "      <td>1.0</td>\n",
       "      <td>800.0</td>\n",
       "      <td>0.0</td>\n",
       "      <td>0.0</td>\n",
       "      <td>240.09</td>\n",
       "      <td>0.00</td>\n",
       "      <td>0.3</td>\n",
       "      <td>1040.39</td>\n",
       "      <td>0.0</td>\n",
       "    </tr>\n",
       "    <tr>\n",
       "      <th>530908</th>\n",
       "      <td>1.0</td>\n",
       "      <td>2020-01-04 05:33:38</td>\n",
       "      <td>2020-01-04 05:34:27</td>\n",
       "      <td>1.0</td>\n",
       "      <td>0.40</td>\n",
       "      <td>2.0</td>\n",
       "      <td>N</td>\n",
       "      <td>68</td>\n",
       "      <td>68</td>\n",
       "      <td>3.0</td>\n",
       "      <td>52.0</td>\n",
       "      <td>2.5</td>\n",
       "      <td>0.5</td>\n",
       "      <td>0.00</td>\n",
       "      <td>910.50</td>\n",
       "      <td>0.3</td>\n",
       "      <td>965.80</td>\n",
       "      <td>2.5</td>\n",
       "    </tr>\n",
       "    <tr>\n",
       "      <th>1247907</th>\n",
       "      <td>1.0</td>\n",
       "      <td>2020-01-08 07:27:17</td>\n",
       "      <td>2020-01-08 07:58:00</td>\n",
       "      <td>1.0</td>\n",
       "      <td>25.00</td>\n",
       "      <td>3.0</td>\n",
       "      <td>N</td>\n",
       "      <td>152</td>\n",
       "      <td>1</td>\n",
       "      <td>3.0</td>\n",
       "      <td>82.5</td>\n",
       "      <td>0.0</td>\n",
       "      <td>0.0</td>\n",
       "      <td>0.00</td>\n",
       "      <td>831.75</td>\n",
       "      <td>0.3</td>\n",
       "      <td>914.55</td>\n",
       "      <td>0.0</td>\n",
       "    </tr>\n",
       "    <tr>\n",
       "      <th>6224057</th>\n",
       "      <td>1.0</td>\n",
       "      <td>2020-01-31 15:17:24</td>\n",
       "      <td>2020-01-31 15:18:38</td>\n",
       "      <td>1.0</td>\n",
       "      <td>2.90</td>\n",
       "      <td>2.0</td>\n",
       "      <td>N</td>\n",
       "      <td>132</td>\n",
       "      <td>132</td>\n",
       "      <td>2.0</td>\n",
       "      <td>52.0</td>\n",
       "      <td>0.0</td>\n",
       "      <td>0.5</td>\n",
       "      <td>0.00</td>\n",
       "      <td>853.55</td>\n",
       "      <td>0.3</td>\n",
       "      <td>906.35</td>\n",
       "      <td>0.0</td>\n",
       "    </tr>\n",
       "    <tr>\n",
       "      <th>3356299</th>\n",
       "      <td>2.0</td>\n",
       "      <td>2020-01-17 19:26:15</td>\n",
       "      <td>2020-01-17 23:13:11</td>\n",
       "      <td>1.0</td>\n",
       "      <td>154.45</td>\n",
       "      <td>4.0</td>\n",
       "      <td>N</td>\n",
       "      <td>262</td>\n",
       "      <td>265</td>\n",
       "      <td>2.0</td>\n",
       "      <td>765.5</td>\n",
       "      <td>1.0</td>\n",
       "      <td>0.5</td>\n",
       "      <td>0.00</td>\n",
       "      <td>0.00</td>\n",
       "      <td>0.3</td>\n",
       "      <td>769.80</td>\n",
       "      <td>2.5</td>\n",
       "    </tr>\n",
       "    <tr>\n",
       "      <th>3346522</th>\n",
       "      <td>2.0</td>\n",
       "      <td>2020-01-17 19:13:59</td>\n",
       "      <td>2020-01-17 19:13:59</td>\n",
       "      <td>1.0</td>\n",
       "      <td>0.00</td>\n",
       "      <td>5.0</td>\n",
       "      <td>N</td>\n",
       "      <td>264</td>\n",
       "      <td>264</td>\n",
       "      <td>2.0</td>\n",
       "      <td>750.0</td>\n",
       "      <td>0.0</td>\n",
       "      <td>0.0</td>\n",
       "      <td>0.00</td>\n",
       "      <td>0.00</td>\n",
       "      <td>0.0</td>\n",
       "      <td>750.00</td>\n",
       "      <td>0.0</td>\n",
       "    </tr>\n",
       "  </tbody>\n",
       "</table>\n",
       "</div>"
      ],
      "text/plain": [
       "         VendorID tpep_pickup_datetime tpep_dropoff_datetime  passenger_count  \\\n",
       "4049543       2.0  2020-01-21 15:38:33   2020-01-27 13:43:40              1.0   \n",
       "5059294       2.0  2020-01-26 00:51:39   2020-01-28 07:18:59              1.0   \n",
       "471401        2.0  2020-01-03 19:29:51   2020-01-05 12:28:15              1.0   \n",
       "4268194       2.0  2020-01-22 16:41:24   2020-01-22 16:49:28              1.0   \n",
       "1024290       2.0  2020-01-06 22:10:47   2020-01-06 22:10:58              1.0   \n",
       "530908        1.0  2020-01-04 05:33:38   2020-01-04 05:34:27              1.0   \n",
       "1247907       1.0  2020-01-08 07:27:17   2020-01-08 07:58:00              1.0   \n",
       "6224057       1.0  2020-01-31 15:17:24   2020-01-31 15:18:38              1.0   \n",
       "3356299       2.0  2020-01-17 19:26:15   2020-01-17 23:13:11              1.0   \n",
       "3346522       2.0  2020-01-17 19:13:59   2020-01-17 19:13:59              1.0   \n",
       "\n",
       "         trip_distance  RatecodeID store_and_fwd_flag  PULocationID  \\\n",
       "4049543           1.57         1.0                  N           186   \n",
       "5059294          58.85         1.0                  N           132   \n",
       "471401            8.27         1.0                  N           186   \n",
       "4268194           0.55         1.0                  N           231   \n",
       "1024290           0.00         5.0                  N            33   \n",
       "530908            0.40         2.0                  N            68   \n",
       "1247907          25.00         3.0                  N           152   \n",
       "6224057           2.90         2.0                  N           132   \n",
       "3356299         154.45         4.0                  N           262   \n",
       "3346522           0.00         5.0                  N           264   \n",
       "\n",
       "         DOLocationID  payment_type  fare_amount  extra  mta_tax  tip_amount  \\\n",
       "4049543           152           2.0       4265.0    0.0      0.5        0.00   \n",
       "5059294             7           2.0       1718.5    0.5      0.5        0.00   \n",
       "471401            152           2.0       1238.0    1.0      0.5        0.00   \n",
       "4268194           209           1.0          6.5    1.0      0.5     1100.00   \n",
       "1024290            33           1.0        800.0    0.0      0.0      240.09   \n",
       "530908             68           3.0         52.0    2.5      0.5        0.00   \n",
       "1247907             1           3.0         82.5    0.0      0.0        0.00   \n",
       "6224057           132           2.0         52.0    0.0      0.5        0.00   \n",
       "3356299           265           2.0        765.5    1.0      0.5        0.00   \n",
       "3346522           264           2.0        750.0    0.0      0.0        0.00   \n",
       "\n",
       "         tolls_amount  improvement_surcharge  total_amount  \\\n",
       "4049543          0.00                    0.3       4268.30   \n",
       "5059294          0.00                    0.3       1722.30   \n",
       "471401           0.00                    0.3       1242.30   \n",
       "4268194          0.00                    0.3       1110.80   \n",
       "1024290          0.00                    0.3       1040.39   \n",
       "530908         910.50                    0.3        965.80   \n",
       "1247907        831.75                    0.3        914.55   \n",
       "6224057        853.55                    0.3        906.35   \n",
       "3356299          0.00                    0.3        769.80   \n",
       "3346522          0.00                    0.0        750.00   \n",
       "\n",
       "         congestion_surcharge  \n",
       "4049543                   2.5  \n",
       "5059294                   2.5  \n",
       "471401                    2.5  \n",
       "4268194                   2.5  \n",
       "1024290                   0.0  \n",
       "530908                    2.5  \n",
       "1247907                   0.0  \n",
       "6224057                   0.0  \n",
       "3356299                   2.5  \n",
       "3346522                   0.0  "
      ]
     },
     "execution_count": 211,
     "metadata": {},
     "output_type": "execute_result"
    }
   ],
   "source": [
    "total_amount_sorted = df.sort_values(by=['total_amount'],ascending=False)\n",
    "total_amount_sorted.head(10)"
   ]
  },
  {
   "cell_type": "code",
   "execution_count": 212,
   "metadata": {},
   "outputs": [
    {
     "data": {
      "text/plain": [
       "VendorID                 6339567\n",
       "tpep_pickup_datetime     6405008\n",
       "tpep_dropoff_datetime    6405008\n",
       "passenger_count          6339567\n",
       "trip_distance            6405008\n",
       "RatecodeID               6339567\n",
       "store_and_fwd_flag       6339567\n",
       "PULocationID             6405008\n",
       "DOLocationID             6405008\n",
       "payment_type             6339567\n",
       "fare_amount              6405008\n",
       "extra                    6405008\n",
       "mta_tax                  6405008\n",
       "tip_amount               6405008\n",
       "tolls_amount             6405008\n",
       "improvement_surcharge    6405008\n",
       "total_amount             6405008\n",
       "congestion_surcharge     6405008\n",
       "dtype: int64"
      ]
     },
     "execution_count": 212,
     "metadata": {},
     "output_type": "execute_result"
    }
   ],
   "source": [
    "df.count()"
   ]
  },
  {
   "cell_type": "code",
   "execution_count": 213,
   "metadata": {},
   "outputs": [],
   "source": [
    "# delete rows with null values in the column 'passenger_count'\n",
    "df = df.dropna(subset=['passenger_count'])"
   ]
  },
  {
   "cell_type": "code",
   "execution_count": 214,
   "metadata": {},
   "outputs": [
    {
     "data": {
      "text/plain": [
       "VendorID                 6339567\n",
       "tpep_pickup_datetime     6339567\n",
       "tpep_dropoff_datetime    6339567\n",
       "passenger_count          6339567\n",
       "trip_distance            6339567\n",
       "RatecodeID               6339567\n",
       "store_and_fwd_flag       6339567\n",
       "PULocationID             6339567\n",
       "DOLocationID             6339567\n",
       "payment_type             6339567\n",
       "fare_amount              6339567\n",
       "extra                    6339567\n",
       "mta_tax                  6339567\n",
       "tip_amount               6339567\n",
       "tolls_amount             6339567\n",
       "improvement_surcharge    6339567\n",
       "total_amount             6339567\n",
       "congestion_surcharge     6339567\n",
       "dtype: int64"
      ]
     },
     "execution_count": 214,
     "metadata": {},
     "output_type": "execute_result"
    }
   ],
   "source": [
    "df.count()"
   ]
  },
  {
   "cell_type": "code",
   "execution_count": 215,
   "metadata": {},
   "outputs": [
    {
     "data": {
      "text/html": [
       "<div>\n",
       "<style scoped>\n",
       "    .dataframe tbody tr th:only-of-type {\n",
       "        vertical-align: middle;\n",
       "    }\n",
       "\n",
       "    .dataframe tbody tr th {\n",
       "        vertical-align: top;\n",
       "    }\n",
       "\n",
       "    .dataframe thead th {\n",
       "        text-align: right;\n",
       "    }\n",
       "</style>\n",
       "<table border=\"1\" class=\"dataframe\">\n",
       "  <thead>\n",
       "    <tr style=\"text-align: right;\">\n",
       "      <th></th>\n",
       "      <th>VendorID</th>\n",
       "      <th>tpep_pickup_datetime</th>\n",
       "      <th>tpep_dropoff_datetime</th>\n",
       "      <th>passenger_count</th>\n",
       "      <th>trip_distance</th>\n",
       "      <th>RatecodeID</th>\n",
       "      <th>store_and_fwd_flag</th>\n",
       "      <th>PULocationID</th>\n",
       "      <th>DOLocationID</th>\n",
       "      <th>payment_type</th>\n",
       "      <th>fare_amount</th>\n",
       "      <th>extra</th>\n",
       "      <th>mta_tax</th>\n",
       "      <th>tip_amount</th>\n",
       "      <th>tolls_amount</th>\n",
       "      <th>improvement_surcharge</th>\n",
       "      <th>total_amount</th>\n",
       "      <th>congestion_surcharge</th>\n",
       "    </tr>\n",
       "  </thead>\n",
       "  <tbody>\n",
       "    <tr>\n",
       "      <th>2283191</th>\n",
       "      <td>2.0</td>\n",
       "      <td>2020-01-12 22:32:36</td>\n",
       "      <td>2020-01-12 22:32:43</td>\n",
       "      <td>1.0</td>\n",
       "      <td>0.00</td>\n",
       "      <td>5.0</td>\n",
       "      <td>N</td>\n",
       "      <td>100</td>\n",
       "      <td>100</td>\n",
       "      <td>4.0</td>\n",
       "      <td>-250.0</td>\n",
       "      <td>0.0</td>\n",
       "      <td>0.0</td>\n",
       "      <td>0.0</td>\n",
       "      <td>0.0</td>\n",
       "      <td>-0.3</td>\n",
       "      <td>-252.8</td>\n",
       "      <td>-2.5</td>\n",
       "    </tr>\n",
       "    <tr>\n",
       "      <th>2283193</th>\n",
       "      <td>2.0</td>\n",
       "      <td>2020-01-12 22:34:28</td>\n",
       "      <td>2020-01-12 22:34:37</td>\n",
       "      <td>1.0</td>\n",
       "      <td>0.00</td>\n",
       "      <td>5.0</td>\n",
       "      <td>N</td>\n",
       "      <td>100</td>\n",
       "      <td>100</td>\n",
       "      <td>2.0</td>\n",
       "      <td>-250.0</td>\n",
       "      <td>0.0</td>\n",
       "      <td>0.0</td>\n",
       "      <td>0.0</td>\n",
       "      <td>0.0</td>\n",
       "      <td>-0.3</td>\n",
       "      <td>-252.8</td>\n",
       "      <td>-2.5</td>\n",
       "    </tr>\n",
       "    <tr>\n",
       "      <th>2033915</th>\n",
       "      <td>2.0</td>\n",
       "      <td>2020-01-11 17:49:56</td>\n",
       "      <td>2020-01-11 17:50:28</td>\n",
       "      <td>1.0</td>\n",
       "      <td>0.00</td>\n",
       "      <td>5.0</td>\n",
       "      <td>N</td>\n",
       "      <td>226</td>\n",
       "      <td>226</td>\n",
       "      <td>2.0</td>\n",
       "      <td>-300.0</td>\n",
       "      <td>0.0</td>\n",
       "      <td>0.0</td>\n",
       "      <td>0.0</td>\n",
       "      <td>0.0</td>\n",
       "      <td>-0.3</td>\n",
       "      <td>-300.3</td>\n",
       "      <td>0.0</td>\n",
       "    </tr>\n",
       "    <tr>\n",
       "      <th>3621995</th>\n",
       "      <td>2.0</td>\n",
       "      <td>2020-01-19 03:04:46</td>\n",
       "      <td>2020-01-19 03:09:48</td>\n",
       "      <td>1.0</td>\n",
       "      <td>0.69</td>\n",
       "      <td>5.0</td>\n",
       "      <td>N</td>\n",
       "      <td>158</td>\n",
       "      <td>158</td>\n",
       "      <td>4.0</td>\n",
       "      <td>-300.0</td>\n",
       "      <td>0.0</td>\n",
       "      <td>-0.5</td>\n",
       "      <td>0.0</td>\n",
       "      <td>0.0</td>\n",
       "      <td>-0.3</td>\n",
       "      <td>-303.3</td>\n",
       "      <td>-2.5</td>\n",
       "    </tr>\n",
       "    <tr>\n",
       "      <th>5074681</th>\n",
       "      <td>2.0</td>\n",
       "      <td>2020-01-26 02:52:08</td>\n",
       "      <td>2020-01-26 02:52:15</td>\n",
       "      <td>1.0</td>\n",
       "      <td>0.00</td>\n",
       "      <td>5.0</td>\n",
       "      <td>N</td>\n",
       "      <td>265</td>\n",
       "      <td>264</td>\n",
       "      <td>4.0</td>\n",
       "      <td>-320.0</td>\n",
       "      <td>0.0</td>\n",
       "      <td>-0.5</td>\n",
       "      <td>0.0</td>\n",
       "      <td>0.0</td>\n",
       "      <td>-0.3</td>\n",
       "      <td>-320.8</td>\n",
       "      <td>0.0</td>\n",
       "    </tr>\n",
       "    <tr>\n",
       "      <th>5227053</th>\n",
       "      <td>2.0</td>\n",
       "      <td>2020-01-26 21:47:20</td>\n",
       "      <td>2020-01-26 21:48:25</td>\n",
       "      <td>1.0</td>\n",
       "      <td>0.02</td>\n",
       "      <td>5.0</td>\n",
       "      <td>N</td>\n",
       "      <td>186</td>\n",
       "      <td>186</td>\n",
       "      <td>3.0</td>\n",
       "      <td>-330.0</td>\n",
       "      <td>0.0</td>\n",
       "      <td>-0.5</td>\n",
       "      <td>0.0</td>\n",
       "      <td>0.0</td>\n",
       "      <td>-0.3</td>\n",
       "      <td>-333.3</td>\n",
       "      <td>-2.5</td>\n",
       "    </tr>\n",
       "    <tr>\n",
       "      <th>2724419</th>\n",
       "      <td>2.0</td>\n",
       "      <td>2020-01-15 05:00:34</td>\n",
       "      <td>2020-01-15 05:04:39</td>\n",
       "      <td>1.0</td>\n",
       "      <td>0.00</td>\n",
       "      <td>5.0</td>\n",
       "      <td>N</td>\n",
       "      <td>133</td>\n",
       "      <td>133</td>\n",
       "      <td>3.0</td>\n",
       "      <td>-400.0</td>\n",
       "      <td>0.0</td>\n",
       "      <td>0.0</td>\n",
       "      <td>0.0</td>\n",
       "      <td>0.0</td>\n",
       "      <td>-0.3</td>\n",
       "      <td>-400.3</td>\n",
       "      <td>0.0</td>\n",
       "    </tr>\n",
       "    <tr>\n",
       "      <th>1024291</th>\n",
       "      <td>2.0</td>\n",
       "      <td>2020-01-06 22:23:17</td>\n",
       "      <td>2020-01-06 22:23:30</td>\n",
       "      <td>1.0</td>\n",
       "      <td>0.00</td>\n",
       "      <td>5.0</td>\n",
       "      <td>N</td>\n",
       "      <td>65</td>\n",
       "      <td>65</td>\n",
       "      <td>2.0</td>\n",
       "      <td>-500.0</td>\n",
       "      <td>0.0</td>\n",
       "      <td>0.0</td>\n",
       "      <td>0.0</td>\n",
       "      <td>0.0</td>\n",
       "      <td>-0.3</td>\n",
       "      <td>-500.3</td>\n",
       "      <td>0.0</td>\n",
       "    </tr>\n",
       "    <tr>\n",
       "      <th>3938141</th>\n",
       "      <td>2.0</td>\n",
       "      <td>2020-01-21 01:10:40</td>\n",
       "      <td>2020-01-21 01:10:49</td>\n",
       "      <td>4.0</td>\n",
       "      <td>0.00</td>\n",
       "      <td>5.0</td>\n",
       "      <td>N</td>\n",
       "      <td>42</td>\n",
       "      <td>42</td>\n",
       "      <td>4.0</td>\n",
       "      <td>-730.0</td>\n",
       "      <td>0.0</td>\n",
       "      <td>0.0</td>\n",
       "      <td>0.0</td>\n",
       "      <td>0.0</td>\n",
       "      <td>-0.3</td>\n",
       "      <td>-730.3</td>\n",
       "      <td>0.0</td>\n",
       "    </tr>\n",
       "    <tr>\n",
       "      <th>471400</th>\n",
       "      <td>2.0</td>\n",
       "      <td>2020-01-03 19:29:51</td>\n",
       "      <td>2020-01-05 12:28:15</td>\n",
       "      <td>1.0</td>\n",
       "      <td>8.27</td>\n",
       "      <td>1.0</td>\n",
       "      <td>N</td>\n",
       "      <td>186</td>\n",
       "      <td>152</td>\n",
       "      <td>3.0</td>\n",
       "      <td>-1238.0</td>\n",
       "      <td>-1.0</td>\n",
       "      <td>-0.5</td>\n",
       "      <td>0.0</td>\n",
       "      <td>0.0</td>\n",
       "      <td>-0.3</td>\n",
       "      <td>-1242.3</td>\n",
       "      <td>-2.5</td>\n",
       "    </tr>\n",
       "  </tbody>\n",
       "</table>\n",
       "</div>"
      ],
      "text/plain": [
       "         VendorID tpep_pickup_datetime tpep_dropoff_datetime  passenger_count  \\\n",
       "2283191       2.0  2020-01-12 22:32:36   2020-01-12 22:32:43              1.0   \n",
       "2283193       2.0  2020-01-12 22:34:28   2020-01-12 22:34:37              1.0   \n",
       "2033915       2.0  2020-01-11 17:49:56   2020-01-11 17:50:28              1.0   \n",
       "3621995       2.0  2020-01-19 03:04:46   2020-01-19 03:09:48              1.0   \n",
       "5074681       2.0  2020-01-26 02:52:08   2020-01-26 02:52:15              1.0   \n",
       "5227053       2.0  2020-01-26 21:47:20   2020-01-26 21:48:25              1.0   \n",
       "2724419       2.0  2020-01-15 05:00:34   2020-01-15 05:04:39              1.0   \n",
       "1024291       2.0  2020-01-06 22:23:17   2020-01-06 22:23:30              1.0   \n",
       "3938141       2.0  2020-01-21 01:10:40   2020-01-21 01:10:49              4.0   \n",
       "471400        2.0  2020-01-03 19:29:51   2020-01-05 12:28:15              1.0   \n",
       "\n",
       "         trip_distance  RatecodeID store_and_fwd_flag  PULocationID  \\\n",
       "2283191           0.00         5.0                  N           100   \n",
       "2283193           0.00         5.0                  N           100   \n",
       "2033915           0.00         5.0                  N           226   \n",
       "3621995           0.69         5.0                  N           158   \n",
       "5074681           0.00         5.0                  N           265   \n",
       "5227053           0.02         5.0                  N           186   \n",
       "2724419           0.00         5.0                  N           133   \n",
       "1024291           0.00         5.0                  N            65   \n",
       "3938141           0.00         5.0                  N            42   \n",
       "471400            8.27         1.0                  N           186   \n",
       "\n",
       "         DOLocationID  payment_type  fare_amount  extra  mta_tax  tip_amount  \\\n",
       "2283191           100           4.0       -250.0    0.0      0.0         0.0   \n",
       "2283193           100           2.0       -250.0    0.0      0.0         0.0   \n",
       "2033915           226           2.0       -300.0    0.0      0.0         0.0   \n",
       "3621995           158           4.0       -300.0    0.0     -0.5         0.0   \n",
       "5074681           264           4.0       -320.0    0.0     -0.5         0.0   \n",
       "5227053           186           3.0       -330.0    0.0     -0.5         0.0   \n",
       "2724419           133           3.0       -400.0    0.0      0.0         0.0   \n",
       "1024291            65           2.0       -500.0    0.0      0.0         0.0   \n",
       "3938141            42           4.0       -730.0    0.0      0.0         0.0   \n",
       "471400            152           3.0      -1238.0   -1.0     -0.5         0.0   \n",
       "\n",
       "         tolls_amount  improvement_surcharge  total_amount  \\\n",
       "2283191           0.0                   -0.3        -252.8   \n",
       "2283193           0.0                   -0.3        -252.8   \n",
       "2033915           0.0                   -0.3        -300.3   \n",
       "3621995           0.0                   -0.3        -303.3   \n",
       "5074681           0.0                   -0.3        -320.8   \n",
       "5227053           0.0                   -0.3        -333.3   \n",
       "2724419           0.0                   -0.3        -400.3   \n",
       "1024291           0.0                   -0.3        -500.3   \n",
       "3938141           0.0                   -0.3        -730.3   \n",
       "471400            0.0                   -0.3       -1242.3   \n",
       "\n",
       "         congestion_surcharge  \n",
       "2283191                  -2.5  \n",
       "2283193                  -2.5  \n",
       "2033915                   0.0  \n",
       "3621995                  -2.5  \n",
       "5074681                   0.0  \n",
       "5227053                  -2.5  \n",
       "2724419                   0.0  \n",
       "1024291                   0.0  \n",
       "3938141                   0.0  \n",
       "471400                   -2.5  "
      ]
     },
     "execution_count": 215,
     "metadata": {},
     "output_type": "execute_result"
    }
   ],
   "source": [
    "total_amount_sorted.tail(10)"
   ]
  },
  {
   "cell_type": "code",
   "execution_count": 216,
   "metadata": {},
   "outputs": [
    {
     "data": {
      "text/plain": [
       "VendorID                 19441\n",
       "tpep_pickup_datetime     19441\n",
       "tpep_dropoff_datetime    19441\n",
       "passenger_count          19441\n",
       "trip_distance            19441\n",
       "RatecodeID               19441\n",
       "store_and_fwd_flag       19441\n",
       "PULocationID             19441\n",
       "DOLocationID             19441\n",
       "payment_type             19441\n",
       "fare_amount              19441\n",
       "extra                    19441\n",
       "mta_tax                  19441\n",
       "tip_amount               19441\n",
       "tolls_amount             19441\n",
       "improvement_surcharge    19441\n",
       "total_amount             19441\n",
       "congestion_surcharge     19441\n",
       "dtype: int64"
      ]
     },
     "execution_count": 216,
     "metadata": {},
     "output_type": "execute_result"
    }
   ],
   "source": [
    "# total number of rows where total amount is negative\n",
    "df[df['total_amount'] < 0].count()"
   ]
  },
  {
   "cell_type": "code",
   "execution_count": 217,
   "metadata": {},
   "outputs": [
    {
     "data": {
      "text/plain": [
       "VendorID                 6318454\n",
       "tpep_pickup_datetime     6318454\n",
       "tpep_dropoff_datetime    6318454\n",
       "passenger_count          6318454\n",
       "trip_distance            6318454\n",
       "RatecodeID               6318454\n",
       "store_and_fwd_flag       6318454\n",
       "PULocationID             6318454\n",
       "DOLocationID             6318454\n",
       "payment_type             6318454\n",
       "fare_amount              6318454\n",
       "extra                    6318454\n",
       "mta_tax                  6318454\n",
       "tip_amount               6318454\n",
       "tolls_amount             6318454\n",
       "improvement_surcharge    6318454\n",
       "total_amount             6318454\n",
       "congestion_surcharge     6318454\n",
       "dtype: int64"
      ]
     },
     "execution_count": 217,
     "metadata": {},
     "output_type": "execute_result"
    }
   ],
   "source": [
    "df = df[df['total_amount'] > 0]\n",
    "df.count()"
   ]
  },
  {
   "cell_type": "code",
   "execution_count": 218,
   "metadata": {},
   "outputs": [
    {
     "data": {
      "text/plain": [
       "1.0    4694430\n",
       "2.0    1589355\n",
       "3.0      25518\n",
       "4.0       9151\n",
       "Name: payment_type, dtype: int64"
      ]
     },
     "execution_count": 218,
     "metadata": {},
     "output_type": "execute_result"
    }
   ],
   "source": [
    "# value count of each payment type\n",
    "df['payment_type'].value_counts()"
   ]
  },
  {
   "cell_type": "code",
   "execution_count": 219,
   "metadata": {},
   "outputs": [
    {
     "name": "stdout",
     "output_type": "stream",
     "text": [
      "Avg tip for credit card payment:  2.986017561237468\n",
      "Avg tip for cash payment:  0.00019576494867414775\n"
     ]
    }
   ],
   "source": [
    "# 1 is for credit card payment, 2 is for cash payment\n",
    "# average tip for trips paid with credit card\n",
    "avg_cc_tip = df[df['payment_type'] == 1]['tip_amount'].mean()\n",
    "print('Avg tip for credit card payment: ', avg_cc_tip)\n",
    "# average tip for trips paid with cash\n",
    "avg_cash_tip = df[df['payment_type'] == 2]['tip_amount'].mean()\n",
    "print('Avg tip for cash payment: ', avg_cash_tip)"
   ]
  },
  {
   "cell_type": "code",
   "execution_count": 220,
   "metadata": {},
   "outputs": [
    {
     "data": {
      "text/plain": [
       "2.0    4224611\n",
       "1.0    2093843\n",
       "Name: VendorID, dtype: int64"
      ]
     },
     "execution_count": 220,
     "metadata": {},
     "output_type": "execute_result"
    }
   ],
   "source": [
    "df['VendorID'].value_counts()"
   ]
  },
  {
   "cell_type": "code",
   "execution_count": 221,
   "metadata": {},
   "outputs": [
    {
     "data": {
      "text/plain": [
       "VendorID\n",
       "1.0    18.118585\n",
       "2.0    18.810826\n",
       "Name: total_amount, dtype: float64"
      ]
     },
     "execution_count": 221,
     "metadata": {},
     "output_type": "execute_result"
    }
   ],
   "source": [
    "# Mean total amount for each vendor\n",
    "df.groupby('VendorID')['total_amount'].mean()"
   ]
  },
  {
   "cell_type": "code",
   "execution_count": 222,
   "metadata": {},
   "outputs": [
    {
     "data": {
      "text/plain": [
       "1.0    3398293\n",
       "2.0     685703\n",
       "3.0     178600\n",
       "5.0     168214\n",
       "6.0      97712\n",
       "0.0      83436\n",
       "4.0      82417\n",
       "7.0         23\n",
       "9.0         18\n",
       "8.0         14\n",
       "Name: passenger_count, dtype: int64"
      ]
     },
     "execution_count": 222,
     "metadata": {},
     "output_type": "execute_result"
    }
   ],
   "source": [
    "# filter the data for credit card payment\n",
    "credit_card = df[df['payment_type'] == 1]\n",
    "\n",
    "# filter the data for passenger count\n",
    "credit_card['passenger_count'].value_counts()"
   ]
  },
  {
   "cell_type": "code",
   "execution_count": 223,
   "metadata": {},
   "outputs": [
    {
     "data": {
      "text/plain": [
       "passenger_count\n",
       "0.0    2.900702\n",
       "1.0    2.962929\n",
       "2.0    3.082238\n",
       "3.0    3.029043\n",
       "4.0    3.101570\n",
       "5.0    2.978481\n",
       "6.0    3.020842\n",
       "7.0    8.262174\n",
       "8.0    6.022857\n",
       "9.0    8.226111\n",
       "Name: tip_amount, dtype: float64"
      ]
     },
     "execution_count": 223,
     "metadata": {},
     "output_type": "execute_result"
    }
   ],
   "source": [
    "# average tip for each passenger count\n",
    "credit_card.groupby('passenger_count')['tip_amount'].mean()\n"
   ]
  },
  {
   "cell_type": "code",
   "execution_count": 224,
   "metadata": {},
   "outputs": [],
   "source": [
    "import datetime as dt\n",
    "df['tpep_pickup_datetime'] = pd.to_datetime(df['tpep_pickup_datetime'])\n",
    "df['tpep_dropoff_datetime'] = pd.to_datetime(df['tpep_dropoff_datetime'])"
   ]
  },
  {
   "cell_type": "code",
   "execution_count": 225,
   "metadata": {},
   "outputs": [
    {
     "data": {
      "image/png": "[encoded data removed]",
      "text/plain": [
       "<Figure size 900x300 with 1 Axes>"
      ]
     },
     "metadata": {},
     "output_type": "display_data"
    }
   ],
   "source": [
    "# create a box plot of trip distance with figsize=(9,3), color='red', fliersize=3, and title='Trip Distance Box Plot, 2020-01\n",
    "plt.figure(figsize=(9,3))\n",
    "plt.title('Trip Distance Box Plot')\n",
    "sns.boxplot(data=None, x=df['trip_distance'], color='red', fliersize=3)\n",
    "plt.show()"
   ]
  },
  {
   "cell_type": "code",
   "execution_count": 226,
   "metadata": {},
   "outputs": [
    {
     "data": {
      "image/png": "[encoded data removed]",
      "text/plain": [
       "<Figure size 900x300 with 1 Axes>"
      ]
     },
     "metadata": {},
     "output_type": "display_data"
    }
   ],
   "source": [
    "# box plot with trip distance less than 100 miles\n",
    "plt.figure(figsize=(9,3))\n",
    "plt.title('Trip Distance Box Plot')\n",
    "sns.boxplot(data=None, x=df[df['trip_distance'] < 100]['trip_distance'], color='red', fliersize=3)\n",
    "plt.show()"
   ]
  },
  {
   "cell_type": "code",
   "execution_count": 227,
   "metadata": {},
   "outputs": [],
   "source": [
    "# remove trip distance with negative values\n",
    "df = df[df['trip_distance'] > 0]"
   ]
  },
  {
   "cell_type": "code",
   "execution_count": 228,
   "metadata": {},
   "outputs": [
    {
     "data": {
      "image/png": "[encoded data removed]",
      "text/plain": [
       "<Figure size 900x300 with 1 Axes>"
      ]
     },
     "metadata": {},
     "output_type": "display_data"
    }
   ],
   "source": [
    "# box plot with trip distance less than 50 miles\n",
    "plt.figure(figsize=(9,3))\n",
    "plt.title('Trip Distance Box Plot')\n",
    "sns.boxplot(data=None, x=df[df['trip_distance'] < 50]['trip_distance'], color='red', fliersize=3)\n",
    "plt.show()"
   ]
  },
  {
   "cell_type": "code",
   "execution_count": 229,
   "metadata": {},
   "outputs": [
    {
     "data": {
      "text/plain": [
       "<Axes: title={'center': 'Trip Distance Histogram'}, xlabel='Trip Distance', ylabel='Frequency'>"
      ]
     },
     "execution_count": 229,
     "metadata": {},
     "output_type": "execute_result"
    },
    {
     "data": {
      "image/png": "[encoded data removed]",
      "text/plain": [
       "<Figure size 1000x500 with 1 Axes>"
      ]
     },
     "metadata": {},
     "output_type": "display_data"
    }
   ],
   "source": [
    "# create a histogram of trip distance with figsize=(9,3), color='green', bins=20, and title='Trip Distance Histogram, 2020-01'\n",
    "plt.figure(figsize=(10,5))\n",
    "plt.title('Trip Distance Histogram')\n",
    "plt.xlabel('Trip Distance')\n",
    "plt.ylabel('Frequency')\n",
    "sns.histplot(data=df, x='trip_distance', color='green', bins=range(0, 25, 1))"
   ]
  },
  {
   "cell_type": "code",
   "execution_count": 230,
   "metadata": {},
   "outputs": [
    {
     "data": {
      "text/plain": [
       "<Axes: title={'center': 'Total Amount Box Plot'}, xlabel='total_amount'>"
      ]
     },
     "execution_count": 230,
     "metadata": {},
     "output_type": "execute_result"
    },
    {
     "data": {
      "image/png": "[encoded data removed]",
      "text/plain": [
       "<Figure size 900x300 with 1 Axes>"
      ]
     },
     "metadata": {},
     "output_type": "display_data"
    }
   ],
   "source": [
    "# create a box plot of total amount\n",
    "plt.figure(figsize=(9,3))\n",
    "plt.title('Total Amount Box Plot')\n",
    "sns.boxplot(data=None, x=df[df['total_amount']<1000]['total_amount'], fliersize=3)"
   ]
  },
  {
   "cell_type": "code",
   "execution_count": 231,
   "metadata": {},
   "outputs": [
    {
     "data": {
      "text/plain": [
       "<Axes: title={'center': 'Total Amount Histogram'}, xlabel='Total Amount', ylabel='Frequency'>"
      ]
     },
     "execution_count": 231,
     "metadata": {},
     "output_type": "execute_result"
    },
    {
     "data": {
      "image/png": "[encoded data removed]",
      "text/plain": [
       "<Figure size 1200x600 with 1 Axes>"
      ]
     },
     "metadata": {},
     "output_type": "display_data"
    }
   ],
   "source": [
    "# create a histogram of total amount\n",
    "plt.figure(figsize=(12,6))\n",
    "plt.title('Total Amount Histogram')\n",
    "plt.xlabel('Total Amount')\n",
    "plt.ylabel('Frequency')\n",
    "sns.histplot(data=df, x='total_amount', bins=range(0, 100, 5))"
   ]
  },
  {
   "cell_type": "code",
   "execution_count": 232,
   "metadata": {},
   "outputs": [
    {
     "data": {
      "text/plain": [
       "<Axes: title={'center': 'Tip Amount Box Plot'}, xlabel='tip_amount'>"
      ]
     },
     "execution_count": 232,
     "metadata": {},
     "output_type": "execute_result"
    },
    {
     "data": {
      "image/png": "[encoded data removed]",
      "text/plain": [
       "<Figure size 900x300 with 1 Axes>"
      ]
     },
     "metadata": {},
     "output_type": "display_data"
    }
   ],
   "source": [
    "# create a box plot of tip amount\n",
    "plt.figure(figsize=(9,3))\n",
    "plt.title('Tip Amount Box Plot')\n",
    "sns.boxplot(data=None, x=df[df['tip_amount']<100]['tip_amount'], fliersize=3)"
   ]
  },
  {
   "cell_type": "code",
   "execution_count": 233,
   "metadata": {},
   "outputs": [
    {
     "data": {
      "text/plain": [
       "[Text(0, 0, '0'),\n",
       " Text(2, 0, '2'),\n",
       " Text(4, 0, '4'),\n",
       " Text(6, 0, '6'),\n",
       " Text(8, 0, '8'),\n",
       " Text(10, 0, '10'),\n",
       " Text(12, 0, '12'),\n",
       " Text(14, 0, '14'),\n",
       " Text(16, 0, '16'),\n",
       " Text(18, 0, '18')]"
      ]
     },
     "execution_count": 233,
     "metadata": {},
     "output_type": "execute_result"
    },
    {
     "data": {
      "image/png": "[encoded data removed]",
      "text/plain": [
       "<Figure size 1200x600 with 1 Axes>"
      ]
     },
     "metadata": {},
     "output_type": "display_data"
    }
   ],
   "source": [
    "# create a histogram of tip amount\n",
    "plt.figure(figsize=(12,6))\n",
    "plt.title('Tip Amount Histogram')\n",
    "plt.xlabel('Tip Amount')\n",
    "plt.ylabel('Frequency')\n",
    "ax = sns.histplot(data=df, x='tip_amount', bins=range(0, 20, 1))\n",
    "ax.set_xticks(range(0, 20, 2))\n",
    "ax.set_xticklabels(range(0, 20, 2))"
   ]
  },
  {
   "cell_type": "code",
   "execution_count": 234,
   "metadata": {},
   "outputs": [
    {
     "data": {
      "text/plain": [
       "[Text(0, 0, '0'),\n",
       " Text(1, 0, '1'),\n",
       " Text(2, 0, '2'),\n",
       " Text(3, 0, '3'),\n",
       " Text(4, 0, '4'),\n",
       " Text(5, 0, '5'),\n",
       " Text(6, 0, '6'),\n",
       " Text(7, 0, '7'),\n",
       " Text(8, 0, '8'),\n",
       " Text(9, 0, '9'),\n",
       " Text(10, 0, '10'),\n",
       " Text(11, 0, '11'),\n",
       " Text(12, 0, '12'),\n",
       " Text(13, 0, '13'),\n",
       " Text(14, 0, '14'),\n",
       " Text(15, 0, '15'),\n",
       " Text(16, 0, '16'),\n",
       " Text(17, 0, '17'),\n",
       " Text(18, 0, '18'),\n",
       " Text(19, 0, '19')]"
      ]
     },
     "execution_count": 234,
     "metadata": {},
     "output_type": "execute_result"
    },
    {
     "data": {
      "image/png": "[encoded data removed]",
      "text/plain": [
       "<Figure size 1200x600 with 1 Axes>"
      ]
     },
     "metadata": {},
     "output_type": "display_data"
    }
   ],
   "source": [
    "# create histogram of tip_amount by vendor\n",
    "plt.figure(figsize=(12,6))\n",
    "plt.title('Tip Amount Histogram by Vendor')\n",
    "plt.xlabel('Tip Amount')\n",
    "plt.ylabel('Frequency')\n",
    "ax = sns.histplot(data=df, x='tip_amount', hue='VendorID', bins=range(0, 20, 1), palette='Set2')\n",
    "ax.set_xticks(range(0, 20, 1))\n",
    "ax.set_xticklabels(range(0, 20, 1))"
   ]
  },
  {
   "cell_type": "code",
   "execution_count": 235,
   "metadata": {},
   "outputs": [
    {
     "data": {
      "text/plain": [
       "[Text(10, 0, '10'),\n",
       " Text(11, 0, '11'),\n",
       " Text(12, 0, '12'),\n",
       " Text(13, 0, '13'),\n",
       " Text(14, 0, '14'),\n",
       " Text(15, 0, '15'),\n",
       " Text(16, 0, '16'),\n",
       " Text(17, 0, '17'),\n",
       " Text(18, 0, '18'),\n",
       " Text(19, 0, '19')]"
      ]
     },
     "execution_count": 235,
     "metadata": {},
     "output_type": "execute_result"
    },
    {
     "data": {
      "image/png": "[encoded data removed]",
      "text/plain": [
       "<Figure size 1200x700 with 1 Axes>"
      ]
     },
     "metadata": {},
     "output_type": "display_data"
    }
   ],
   "source": [
    "# creating histogram of tip_amount by vendor for tips > 10\n",
    "plt.figure(figsize=(12,7))\n",
    "plt.title('Tip Amount Histogram by Vendor')\n",
    "plt.xlabel('Tip Amount')\n",
    "plt.ylabel('Frequency')\n",
    "ax = sns.histplot(data=df[df['tip_amount'] > 10], x='tip_amount', hue='VendorID', bins=range(10, 20, 1), palette='Set2')\n",
    "ax.set_xticks(range(10, 20, 1))\n",
    "ax.set_xticklabels(range(10, 20, 1))"
   ]
  },
  {
   "cell_type": "code",
   "execution_count": 236,
   "metadata": {},
   "outputs": [
    {
     "data": {
      "text/plain": [
       "1.0    4479320\n",
       "2.0     936894\n",
       "3.0     248068\n",
       "5.0     224483\n",
       "6.0     131583\n",
       "4.0     121825\n",
       "0.0     112139\n",
       "7.0         17\n",
       "9.0          8\n",
       "8.0          7\n",
       "Name: passenger_count, dtype: int64"
      ]
     },
     "execution_count": 236,
     "metadata": {},
     "output_type": "execute_result"
    }
   ],
   "source": [
    "# unique values in the column 'passenger_count'\n",
    "df['passenger_count'].value_counts()"
   ]
  },
  {
   "cell_type": "code",
   "execution_count": 237,
   "metadata": {},
   "outputs": [
    {
     "data": {
      "text/plain": [
       "passenger_count\n",
       "0.0     2.114788\n",
       "1.0     2.217047\n",
       "2.0     2.220387\n",
       "3.0     2.149212\n",
       "4.0     2.034992\n",
       "5.0     2.214001\n",
       "6.0     2.229735\n",
       "7.0     7.078824\n",
       "8.0     6.834286\n",
       "9.0    10.283750\n",
       "Name: tip_amount, dtype: float64"
      ]
     },
     "execution_count": 237,
     "metadata": {},
     "output_type": "execute_result"
    }
   ],
   "source": [
    "# mean tips by passenger count\n",
    "mean_tips_by_passenger_count = df.groupby('passenger_count')['tip_amount'].mean()\n",
    "mean_tips_by_passenger_count"
   ]
  },
  {
   "cell_type": "code",
   "execution_count": 238,
   "metadata": {},
   "outputs": [
    {
     "data": {
      "text/plain": [
       "<Axes: title={'center': 'Mean Tips by Passenger Count'}, xlabel='passenger_count', ylabel='Mean Tips'>"
      ]
     },
     "execution_count": 238,
     "metadata": {},
     "output_type": "execute_result"
    },
    {
     "data": {
      "image/png": "[encoded data removed]",
      "text/plain": [
       "<Figure size 1200x600 with 1 Axes>"
      ]
     },
     "metadata": {},
     "output_type": "display_data"
    }
   ],
   "source": [
    "# create a bar plot of mean tips by passenger count\n",
    "plt.figure(figsize=(12,6))\n",
    "plt.title('Mean Tips by Passenger Count')\n",
    "plt.xlabel('Passenger Count')\n",
    "plt.ylabel('Mean Tips')\n",
    "sns.barplot(x=mean_tips_by_passenger_count.index, y=mean_tips_by_passenger_count.values)"
   ]
  },
  {
   "cell_type": "code",
   "execution_count": 239,
   "metadata": {},
   "outputs": [
    {
     "data": {
      "text/plain": [
       "1.0    4479320\n",
       "2.0     936894\n",
       "3.0     248068\n",
       "5.0     224483\n",
       "6.0     131583\n",
       "4.0     121825\n",
       "Name: passenger_count, dtype: int64"
      ]
     },
     "execution_count": 239,
     "metadata": {},
     "output_type": "execute_result"
    }
   ],
   "source": [
    "# remove rows with passenger count greater than 6.0 and 0.0\n",
    "df2 = df\n",
    "df2 = df2[df2['passenger_count'] <= 6.0]\n",
    "df2 = df2[df2['passenger_count'] > 0.0]\n",
    "df2['passenger_count'].value_counts()"
   ]
  },
  {
   "cell_type": "code",
   "execution_count": 240,
   "metadata": {},
   "outputs": [],
   "source": [
    "# create month and day columns\n",
    "df2['month'] = df2['tpep_pickup_datetime'].dt.month_name()\n",
    "df2['day'] = df2['tpep_pickup_datetime'].dt.day_name()"
   ]
  },
  {
   "cell_type": "code",
   "execution_count": 241,
   "metadata": {},
   "outputs": [
    {
     "data": {
      "text/plain": [
       "January     6141990\n",
       "December        136\n",
       "February         29\n",
       "July              6\n",
       "March             5\n",
       "May               5\n",
       "April             1\n",
       "June              1\n",
       "Name: month, dtype: int64"
      ]
     },
     "execution_count": 241,
     "metadata": {},
     "output_type": "execute_result"
    }
   ],
   "source": [
    "# total number of trips by month\n",
    "df2['month'].value_counts()"
   ]
  },
  {
   "cell_type": "code",
   "execution_count": 242,
   "metadata": {},
   "outputs": [
    {
     "data": {
      "text/plain": [
       "Friday       1078401\n",
       "Thursday     1062885\n",
       "Wednesday    1009214\n",
       "Tuesday       811534\n",
       "Saturday      785084\n",
       "Monday        707936\n",
       "Sunday        687119\n",
       "Name: day, dtype: int64"
      ]
     },
     "execution_count": 242,
     "metadata": {},
     "output_type": "execute_result"
    }
   ],
   "source": [
    "# total number of trips by day\n",
    "df2['day'].value_counts()"
   ]
  },
  {
   "cell_type": "code",
   "execution_count": 243,
   "metadata": {},
   "outputs": [
    {
     "data": {
      "text/plain": [
       "Monday        707936\n",
       "Tuesday       811534\n",
       "Wednesday    1009214\n",
       "Thursday     1062885\n",
       "Friday       1078401\n",
       "Saturday      785084\n",
       "Sunday        687119\n",
       "Name: day, dtype: int64"
      ]
     },
     "execution_count": 243,
     "metadata": {},
     "output_type": "execute_result"
    }
   ],
   "source": [
    "daily_rides = df2['day'].value_counts()\n",
    "day_order = ['Monday', 'Tuesday', 'Wednesday', 'Thursday', 'Friday', 'Saturday', 'Sunday']\n",
    "daily_rides = daily_rides.reindex(day_order)\n",
    "daily_rides"
   ]
  },
  {
   "cell_type": "code",
   "execution_count": 244,
   "metadata": {},
   "outputs": [
    {
     "data": {
      "text/plain": [
       "<Axes: title={'center': 'Rides by Day'}, xlabel='Day', ylabel='Number of Rides'>"
      ]
     },
     "execution_count": 244,
     "metadata": {},
     "output_type": "execute_result"
    },
    {
     "data": {
      "image/png": "[encoded data removed]",
      "text/plain": [
       "<Figure size 1200x600 with 1 Axes>"
      ]
     },
     "metadata": {},
     "output_type": "display_data"
    }
   ],
   "source": [
    "# create a bar plot of rides by day\n",
    "plt.figure(figsize=(12,6))\n",
    "plt.title('Rides by Day')\n",
    "plt.xlabel('Day')\n",
    "plt.ylabel('Number of Rides')\n",
    "sns.barplot(x=daily_rides.index, y=daily_rides.values)"
   ]
  },
  {
   "cell_type": "code",
   "execution_count": 245,
   "metadata": {},
   "outputs": [
    {
     "data": {
      "text/plain": [
       "<Axes: title={'center': 'Total Revenue by Day'}, xlabel='day', ylabel='total_amount'>"
      ]
     },
     "execution_count": 245,
     "metadata": {},
     "output_type": "execute_result"
    },
    {
     "data": {
      "image/png": "[encoded data removed]",
      "text/plain": [
       "<Figure size 1200x600 with 1 Axes>"
      ]
     },
     "metadata": {},
     "output_type": "display_data"
    }
   ],
   "source": [
    "# create a bar plot total revenue by day\n",
    "plt.figure(figsize=(12,6))\n",
    "plt.title('Total Revenue by Day')\n",
    "plt.xlabel('Day')\n",
    "plt.ylabel('Total Revenue')\n",
    "sns.barplot(x=df2['day'], y=df2['total_amount'])\n"
   ]
  },
  {
   "cell_type": "code",
   "execution_count": 246,
   "metadata": {},
   "outputs": [
    {
     "data": {
      "text/plain": [
       "262"
      ]
     },
     "execution_count": 246,
     "metadata": {},
     "output_type": "execute_result"
    }
   ],
   "source": [
    "# unique values in dropoff location\n",
    "df2['DOLocationID'].nunique()"
   ]
  },
  {
   "cell_type": "code",
   "execution_count": 247,
   "metadata": {},
   "outputs": [
    {
     "data": {
      "text/plain": [
       "DOLocationID\n",
       "44     33.919825\n",
       "84     29.388545\n",
       "204    28.660714\n",
       "99     24.877333\n",
       "5      24.796234\n",
       "         ...    \n",
       "141     1.917032\n",
       "186     1.847897\n",
       "234     1.823796\n",
       "236     1.819417\n",
       "237     1.603397\n",
       "Name: trip_distance, Length: 262, dtype: float64"
      ]
     },
     "execution_count": 247,
     "metadata": {},
     "output_type": "execute_result"
    }
   ],
   "source": [
    "# calculate the mean trip distance by dropoff location\n",
    "distance_by_dropoff = df2.groupby('DOLocationID')['trip_distance'].mean()\n",
    "\n",
    "# sort the values in descending order by mean trip distance\n",
    "distance_by_dropoff = distance_by_dropoff.sort_values(ascending=False)\n",
    "distance_by_dropoff"
   ]
  },
  {
   "cell_type": "code",
   "execution_count": 248,
   "metadata": {},
   "outputs": [
    {
     "data": {
      "text/plain": [
       "[Text(0, 0, ''),\n",
       " Text(1, 0, ''),\n",
       " Text(2, 0, ''),\n",
       " Text(3, 0, ''),\n",
       " Text(4, 0, ''),\n",
       " Text(5, 0, ''),\n",
       " Text(6, 0, ''),\n",
       " Text(7, 0, ''),\n",
       " Text(8, 0, ''),\n",
       " Text(9, 0, ''),\n",
       " Text(10, 0, ''),\n",
       " Text(11, 0, ''),\n",
       " Text(12, 0, ''),\n",
       " Text(13, 0, ''),\n",
       " Text(14, 0, ''),\n",
       " Text(15, 0, ''),\n",
       " Text(16, 0, ''),\n",
       " Text(17, 0, ''),\n",
       " Text(18, 0, ''),\n",
       " Text(19, 0, ''),\n",
       " Text(20, 0, ''),\n",
       " Text(21, 0, ''),\n",
       " Text(22, 0, ''),\n",
       " Text(23, 0, ''),\n",
       " Text(24, 0, ''),\n",
       " Text(25, 0, ''),\n",
       " Text(26, 0, ''),\n",
       " Text(27, 0, ''),\n",
       " Text(28, 0, ''),\n",
       " Text(29, 0, ''),\n",
       " Text(30, 0, ''),\n",
       " Text(31, 0, ''),\n",
       " Text(32, 0, ''),\n",
       " Text(33, 0, ''),\n",
       " Text(34, 0, ''),\n",
       " Text(35, 0, ''),\n",
       " Text(36, 0, ''),\n",
       " Text(37, 0, ''),\n",
       " Text(38, 0, ''),\n",
       " Text(39, 0, ''),\n",
       " Text(40, 0, ''),\n",
       " Text(41, 0, ''),\n",
       " Text(42, 0, ''),\n",
       " Text(43, 0, ''),\n",
       " Text(44, 0, ''),\n",
       " Text(45, 0, ''),\n",
       " Text(46, 0, ''),\n",
       " Text(47, 0, ''),\n",
       " Text(48, 0, ''),\n",
       " Text(49, 0, ''),\n",
       " Text(50, 0, ''),\n",
       " Text(51, 0, ''),\n",
       " Text(52, 0, ''),\n",
       " Text(53, 0, ''),\n",
       " Text(54, 0, ''),\n",
       " Text(55, 0, ''),\n",
       " Text(56, 0, ''),\n",
       " Text(57, 0, ''),\n",
       " Text(58, 0, ''),\n",
       " Text(59, 0, ''),\n",
       " Text(60, 0, ''),\n",
       " Text(61, 0, ''),\n",
       " Text(62, 0, ''),\n",
       " Text(63, 0, ''),\n",
       " Text(64, 0, ''),\n",
       " Text(65, 0, ''),\n",
       " Text(66, 0, ''),\n",
       " Text(67, 0, ''),\n",
       " Text(68, 0, ''),\n",
       " Text(69, 0, ''),\n",
       " Text(70, 0, ''),\n",
       " Text(71, 0, ''),\n",
       " Text(72, 0, ''),\n",
       " Text(73, 0, ''),\n",
       " Text(74, 0, ''),\n",
       " Text(75, 0, ''),\n",
       " Text(76, 0, ''),\n",
       " Text(77, 0, ''),\n",
       " Text(78, 0, ''),\n",
       " Text(79, 0, ''),\n",
       " Text(80, 0, ''),\n",
       " Text(81, 0, ''),\n",
       " Text(82, 0, ''),\n",
       " Text(83, 0, ''),\n",
       " Text(84, 0, ''),\n",
       " Text(85, 0, ''),\n",
       " Text(86, 0, ''),\n",
       " Text(87, 0, ''),\n",
       " Text(88, 0, ''),\n",
       " Text(89, 0, ''),\n",
       " Text(90, 0, ''),\n",
       " Text(91, 0, ''),\n",
       " Text(92, 0, ''),\n",
       " Text(93, 0, ''),\n",
       " Text(94, 0, ''),\n",
       " Text(95, 0, ''),\n",
       " Text(96, 0, ''),\n",
       " Text(97, 0, ''),\n",
       " Text(98, 0, ''),\n",
       " Text(99, 0, ''),\n",
       " Text(100, 0, ''),\n",
       " Text(101, 0, ''),\n",
       " Text(102, 0, ''),\n",
       " Text(103, 0, ''),\n",
       " Text(104, 0, ''),\n",
       " Text(105, 0, ''),\n",
       " Text(106, 0, ''),\n",
       " Text(107, 0, ''),\n",
       " Text(108, 0, ''),\n",
       " Text(109, 0, ''),\n",
       " Text(110, 0, ''),\n",
       " Text(111, 0, ''),\n",
       " Text(112, 0, ''),\n",
       " Text(113, 0, ''),\n",
       " Text(114, 0, ''),\n",
       " Text(115, 0, ''),\n",
       " Text(116, 0, ''),\n",
       " Text(117, 0, ''),\n",
       " Text(118, 0, ''),\n",
       " Text(119, 0, ''),\n",
       " Text(120, 0, ''),\n",
       " Text(121, 0, ''),\n",
       " Text(122, 0, ''),\n",
       " Text(123, 0, ''),\n",
       " Text(124, 0, ''),\n",
       " Text(125, 0, ''),\n",
       " Text(126, 0, ''),\n",
       " Text(127, 0, ''),\n",
       " Text(128, 0, ''),\n",
       " Text(129, 0, ''),\n",
       " Text(130, 0, ''),\n",
       " Text(131, 0, ''),\n",
       " Text(132, 0, ''),\n",
       " Text(133, 0, ''),\n",
       " Text(134, 0, ''),\n",
       " Text(135, 0, ''),\n",
       " Text(136, 0, ''),\n",
       " Text(137, 0, ''),\n",
       " Text(138, 0, ''),\n",
       " Text(139, 0, ''),\n",
       " Text(140, 0, ''),\n",
       " Text(141, 0, ''),\n",
       " Text(142, 0, ''),\n",
       " Text(143, 0, ''),\n",
       " Text(144, 0, ''),\n",
       " Text(145, 0, ''),\n",
       " Text(146, 0, ''),\n",
       " Text(147, 0, ''),\n",
       " Text(148, 0, ''),\n",
       " Text(149, 0, ''),\n",
       " Text(150, 0, ''),\n",
       " Text(151, 0, ''),\n",
       " Text(152, 0, ''),\n",
       " Text(153, 0, ''),\n",
       " Text(154, 0, ''),\n",
       " Text(155, 0, ''),\n",
       " Text(156, 0, ''),\n",
       " Text(157, 0, ''),\n",
       " Text(158, 0, ''),\n",
       " Text(159, 0, ''),\n",
       " Text(160, 0, ''),\n",
       " Text(161, 0, ''),\n",
       " Text(162, 0, ''),\n",
       " Text(163, 0, ''),\n",
       " Text(164, 0, ''),\n",
       " Text(165, 0, ''),\n",
       " Text(166, 0, ''),\n",
       " Text(167, 0, ''),\n",
       " Text(168, 0, ''),\n",
       " Text(169, 0, ''),\n",
       " Text(170, 0, ''),\n",
       " Text(171, 0, ''),\n",
       " Text(172, 0, ''),\n",
       " Text(173, 0, ''),\n",
       " Text(174, 0, ''),\n",
       " Text(175, 0, ''),\n",
       " Text(176, 0, ''),\n",
       " Text(177, 0, ''),\n",
       " Text(178, 0, ''),\n",
       " Text(179, 0, ''),\n",
       " Text(180, 0, ''),\n",
       " Text(181, 0, ''),\n",
       " Text(182, 0, ''),\n",
       " Text(183, 0, ''),\n",
       " Text(184, 0, ''),\n",
       " Text(185, 0, ''),\n",
       " Text(186, 0, ''),\n",
       " Text(187, 0, ''),\n",
       " Text(188, 0, ''),\n",
       " Text(189, 0, ''),\n",
       " Text(190, 0, ''),\n",
       " Text(191, 0, ''),\n",
       " Text(192, 0, ''),\n",
       " Text(193, 0, ''),\n",
       " Text(194, 0, ''),\n",
       " Text(195, 0, ''),\n",
       " Text(196, 0, ''),\n",
       " Text(197, 0, ''),\n",
       " Text(198, 0, ''),\n",
       " Text(199, 0, ''),\n",
       " Text(200, 0, ''),\n",
       " Text(201, 0, ''),\n",
       " Text(202, 0, ''),\n",
       " Text(203, 0, ''),\n",
       " Text(204, 0, ''),\n",
       " Text(205, 0, ''),\n",
       " Text(206, 0, ''),\n",
       " Text(207, 0, ''),\n",
       " Text(208, 0, ''),\n",
       " Text(209, 0, ''),\n",
       " Text(210, 0, ''),\n",
       " Text(211, 0, ''),\n",
       " Text(212, 0, ''),\n",
       " Text(213, 0, ''),\n",
       " Text(214, 0, ''),\n",
       " Text(215, 0, ''),\n",
       " Text(216, 0, ''),\n",
       " Text(217, 0, ''),\n",
       " Text(218, 0, ''),\n",
       " Text(219, 0, ''),\n",
       " Text(220, 0, ''),\n",
       " Text(221, 0, ''),\n",
       " Text(222, 0, ''),\n",
       " Text(223, 0, ''),\n",
       " Text(224, 0, ''),\n",
       " Text(225, 0, ''),\n",
       " Text(226, 0, ''),\n",
       " Text(227, 0, ''),\n",
       " Text(228, 0, ''),\n",
       " Text(229, 0, ''),\n",
       " Text(230, 0, ''),\n",
       " Text(231, 0, ''),\n",
       " Text(232, 0, ''),\n",
       " Text(233, 0, ''),\n",
       " Text(234, 0, ''),\n",
       " Text(235, 0, ''),\n",
       " Text(236, 0, ''),\n",
       " Text(237, 0, ''),\n",
       " Text(238, 0, ''),\n",
       " Text(239, 0, ''),\n",
       " Text(240, 0, ''),\n",
       " Text(241, 0, ''),\n",
       " Text(242, 0, ''),\n",
       " Text(243, 0, ''),\n",
       " Text(244, 0, ''),\n",
       " Text(245, 0, ''),\n",
       " Text(246, 0, ''),\n",
       " Text(247, 0, ''),\n",
       " Text(248, 0, ''),\n",
       " Text(249, 0, ''),\n",
       " Text(250, 0, ''),\n",
       " Text(251, 0, ''),\n",
       " Text(252, 0, ''),\n",
       " Text(253, 0, ''),\n",
       " Text(254, 0, ''),\n",
       " Text(255, 0, ''),\n",
       " Text(256, 0, ''),\n",
       " Text(257, 0, ''),\n",
       " Text(258, 0, ''),\n",
       " Text(259, 0, ''),\n",
       " Text(260, 0, ''),\n",
       " Text(261, 0, '')]"
      ]
     },
     "execution_count": 248,
     "metadata": {},
     "output_type": "execute_result"
    },
    {
     "data": {
      "image/png": "[encoded data removed]",
      "text/plain": [
       "<Figure size 1400x600 with 1 Axes>"
      ]
     },
     "metadata": {},
     "output_type": "display_data"
    }
   ],
   "source": [
    "# create a bar plot of mean trip distance by dropoff location\n",
    "plt.figure(figsize=(14,6))\n",
    "plt.title('Mean Trip Distance by Dropoff Location')\n",
    "plt.xlabel('Dropoff Location')\n",
    "plt.ylabel('Mean Trip Distance')\n",
    "ax = sns.barplot(x=distance_by_dropoff.index, y=distance_by_dropoff.values, order=distance_by_dropoff.index)\n",
    "ax.set_xticklabels([])"
   ]
  },
  {
   "cell_type": "code",
   "execution_count": 249,
   "metadata": {},
   "outputs": [
    {
     "data": {
      "image/png": "[encoded data removed]",
      "text/plain": [
       "<Figure size 1400x600 with 1 Axes>"
      ]
     },
     "metadata": {},
     "output_type": "display_data"
    }
   ],
   "source": [
    "# 1. Generate random points on a 2D plane from a normal distribution\n",
    "test = np.round(np.random.normal(10, 5, (3000,2)),1)\n",
    "midway = int(len(test)/2)\n",
    "start = test[:midway]\n",
    "end = test[midway:]\n",
    "\n",
    "# 2. Calculate the distance between the points\n",
    "distances = np.sqrt(np.sum((start - end)**2, axis=1))\n",
    "\n",
    "# 3. Group the coordinates by \"drop-off location\", compute the mean distance\n",
    "test_df = pd.DataFrame({'start': [tuple(x) for x in start], 'end': [tuple(x) for x in end], 'distance': distances})\n",
    "data = test_df[['end', 'distance']].groupby('end').mean()\n",
    "data = data.sort_values(by='distance')\n",
    "\n",
    "# 4. Plot the mean distance between each point (\"drop-off location\") and all the points it is connected to \n",
    "plt.figure(figsize=(14,6))\n",
    "ax = sns.barplot(x=data.index, y=data['distance'], order=data.index)\n",
    "ax.set_xticklabels([])\n",
    "ax.set_xticks([])\n",
    "ax.set_xlabel('Endpoint')\n",
    "ax.set_ylabel('Mean Distance to all other points')\n",
    "ax.set_title('Mean distance between points taken randomly from normal distribution')\n",
    "plt.show()"
   ]
  },
  {
   "cell_type": "code",
   "execution_count": 250,
   "metadata": {},
   "outputs": [],
   "source": [
    "df['trip_duration'] = (df['tpep_dropoff_datetime'] - df['tpep_pickup_datetime'])\n",
    "df2['trip_duration'] = (df2['tpep_dropoff_datetime'] - df2['tpep_pickup_datetime'])"
   ]
  },
  {
   "cell_type": "code",
   "execution_count": 251,
   "metadata": {},
   "outputs": [
    {
     "data": {
      "text/html": [
       "<div>\n",
       "<style scoped>\n",
       "    .dataframe tbody tr th:only-of-type {\n",
       "        vertical-align: middle;\n",
       "    }\n",
       "\n",
       "    .dataframe tbody tr th {\n",
       "        vertical-align: top;\n",
       "    }\n",
       "\n",
       "    .dataframe thead th {\n",
       "        text-align: right;\n",
       "    }\n",
       "</style>\n",
       "<table border=\"1\" class=\"dataframe\">\n",
       "  <thead>\n",
       "    <tr style=\"text-align: right;\">\n",
       "      <th></th>\n",
       "      <th>VendorID</th>\n",
       "      <th>tpep_pickup_datetime</th>\n",
       "      <th>tpep_dropoff_datetime</th>\n",
       "      <th>passenger_count</th>\n",
       "      <th>trip_distance</th>\n",
       "      <th>RatecodeID</th>\n",
       "      <th>store_and_fwd_flag</th>\n",
       "      <th>PULocationID</th>\n",
       "      <th>DOLocationID</th>\n",
       "      <th>payment_type</th>\n",
       "      <th>...</th>\n",
       "      <th>extra</th>\n",
       "      <th>mta_tax</th>\n",
       "      <th>tip_amount</th>\n",
       "      <th>tolls_amount</th>\n",
       "      <th>improvement_surcharge</th>\n",
       "      <th>total_amount</th>\n",
       "      <th>congestion_surcharge</th>\n",
       "      <th>month</th>\n",
       "      <th>day</th>\n",
       "      <th>trip_duration</th>\n",
       "    </tr>\n",
       "  </thead>\n",
       "  <tbody>\n",
       "    <tr>\n",
       "      <th>0</th>\n",
       "      <td>1.0</td>\n",
       "      <td>2020-01-01 00:28:15</td>\n",
       "      <td>2020-01-01 00:33:03</td>\n",
       "      <td>1.0</td>\n",
       "      <td>1.20</td>\n",
       "      <td>1.0</td>\n",
       "      <td>N</td>\n",
       "      <td>238</td>\n",
       "      <td>239</td>\n",
       "      <td>1.0</td>\n",
       "      <td>...</td>\n",
       "      <td>3.0</td>\n",
       "      <td>0.5</td>\n",
       "      <td>1.47</td>\n",
       "      <td>0.0</td>\n",
       "      <td>0.3</td>\n",
       "      <td>11.27</td>\n",
       "      <td>2.5</td>\n",
       "      <td>January</td>\n",
       "      <td>Wednesday</td>\n",
       "      <td>0 days 00:04:48</td>\n",
       "    </tr>\n",
       "    <tr>\n",
       "      <th>1</th>\n",
       "      <td>1.0</td>\n",
       "      <td>2020-01-01 00:35:39</td>\n",
       "      <td>2020-01-01 00:43:04</td>\n",
       "      <td>1.0</td>\n",
       "      <td>1.20</td>\n",
       "      <td>1.0</td>\n",
       "      <td>N</td>\n",
       "      <td>239</td>\n",
       "      <td>238</td>\n",
       "      <td>1.0</td>\n",
       "      <td>...</td>\n",
       "      <td>3.0</td>\n",
       "      <td>0.5</td>\n",
       "      <td>1.50</td>\n",
       "      <td>0.0</td>\n",
       "      <td>0.3</td>\n",
       "      <td>12.30</td>\n",
       "      <td>2.5</td>\n",
       "      <td>January</td>\n",
       "      <td>Wednesday</td>\n",
       "      <td>0 days 00:07:25</td>\n",
       "    </tr>\n",
       "    <tr>\n",
       "      <th>2</th>\n",
       "      <td>1.0</td>\n",
       "      <td>2020-01-01 00:47:41</td>\n",
       "      <td>2020-01-01 00:53:52</td>\n",
       "      <td>1.0</td>\n",
       "      <td>0.60</td>\n",
       "      <td>1.0</td>\n",
       "      <td>N</td>\n",
       "      <td>238</td>\n",
       "      <td>238</td>\n",
       "      <td>1.0</td>\n",
       "      <td>...</td>\n",
       "      <td>3.0</td>\n",
       "      <td>0.5</td>\n",
       "      <td>1.00</td>\n",
       "      <td>0.0</td>\n",
       "      <td>0.3</td>\n",
       "      <td>10.80</td>\n",
       "      <td>2.5</td>\n",
       "      <td>January</td>\n",
       "      <td>Wednesday</td>\n",
       "      <td>0 days 00:06:11</td>\n",
       "    </tr>\n",
       "    <tr>\n",
       "      <th>3</th>\n",
       "      <td>1.0</td>\n",
       "      <td>2020-01-01 00:55:23</td>\n",
       "      <td>2020-01-01 01:00:14</td>\n",
       "      <td>1.0</td>\n",
       "      <td>0.80</td>\n",
       "      <td>1.0</td>\n",
       "      <td>N</td>\n",
       "      <td>238</td>\n",
       "      <td>151</td>\n",
       "      <td>1.0</td>\n",
       "      <td>...</td>\n",
       "      <td>0.5</td>\n",
       "      <td>0.5</td>\n",
       "      <td>1.36</td>\n",
       "      <td>0.0</td>\n",
       "      <td>0.3</td>\n",
       "      <td>8.16</td>\n",
       "      <td>0.0</td>\n",
       "      <td>January</td>\n",
       "      <td>Wednesday</td>\n",
       "      <td>0 days 00:04:51</td>\n",
       "    </tr>\n",
       "    <tr>\n",
       "      <th>5</th>\n",
       "      <td>2.0</td>\n",
       "      <td>2020-01-01 00:09:44</td>\n",
       "      <td>2020-01-01 00:10:37</td>\n",
       "      <td>1.0</td>\n",
       "      <td>0.03</td>\n",
       "      <td>1.0</td>\n",
       "      <td>N</td>\n",
       "      <td>7</td>\n",
       "      <td>193</td>\n",
       "      <td>2.0</td>\n",
       "      <td>...</td>\n",
       "      <td>0.5</td>\n",
       "      <td>0.5</td>\n",
       "      <td>0.00</td>\n",
       "      <td>0.0</td>\n",
       "      <td>0.3</td>\n",
       "      <td>3.80</td>\n",
       "      <td>0.0</td>\n",
       "      <td>January</td>\n",
       "      <td>Wednesday</td>\n",
       "      <td>0 days 00:00:53</td>\n",
       "    </tr>\n",
       "  </tbody>\n",
       "</table>\n",
       "<p>5 rows × 21 columns</p>\n",
       "</div>"
      ],
      "text/plain": [
       "   VendorID tpep_pickup_datetime tpep_dropoff_datetime  passenger_count  \\\n",
       "0       1.0  2020-01-01 00:28:15   2020-01-01 00:33:03              1.0   \n",
       "1       1.0  2020-01-01 00:35:39   2020-01-01 00:43:04              1.0   \n",
       "2       1.0  2020-01-01 00:47:41   2020-01-01 00:53:52              1.0   \n",
       "3       1.0  2020-01-01 00:55:23   2020-01-01 01:00:14              1.0   \n",
       "5       2.0  2020-01-01 00:09:44   2020-01-01 00:10:37              1.0   \n",
       "\n",
       "   trip_distance  RatecodeID store_and_fwd_flag  PULocationID  DOLocationID  \\\n",
       "0           1.20         1.0                  N           238           239   \n",
       "1           1.20         1.0                  N           239           238   \n",
       "2           0.60         1.0                  N           238           238   \n",
       "3           0.80         1.0                  N           238           151   \n",
       "5           0.03         1.0                  N             7           193   \n",
       "\n",
       "   payment_type  ...  extra  mta_tax  tip_amount  tolls_amount  \\\n",
       "0           1.0  ...    3.0      0.5        1.47           0.0   \n",
       "1           1.0  ...    3.0      0.5        1.50           0.0   \n",
       "2           1.0  ...    3.0      0.5        1.00           0.0   \n",
       "3           1.0  ...    0.5      0.5        1.36           0.0   \n",
       "5           2.0  ...    0.5      0.5        0.00           0.0   \n",
       "\n",
       "   improvement_surcharge  total_amount  congestion_surcharge    month  \\\n",
       "0                    0.3         11.27                   2.5  January   \n",
       "1                    0.3         12.30                   2.5  January   \n",
       "2                    0.3         10.80                   2.5  January   \n",
       "3                    0.3          8.16                   0.0  January   \n",
       "5                    0.3          3.80                   0.0  January   \n",
       "\n",
       "         day   trip_duration  \n",
       "0  Wednesday 0 days 00:04:48  \n",
       "1  Wednesday 0 days 00:07:25  \n",
       "2  Wednesday 0 days 00:06:11  \n",
       "3  Wednesday 0 days 00:04:51  \n",
       "5  Wednesday 0 days 00:00:53  \n",
       "\n",
       "[5 rows x 21 columns]"
      ]
     },
     "execution_count": 251,
     "metadata": {},
     "output_type": "execute_result"
    }
   ],
   "source": [
    "df2.head()"
   ]
  },
  {
   "cell_type": "code",
   "execution_count": 252,
   "metadata": {},
   "outputs": [],
   "source": [
    "# Is there a relationship between tota fare amount and payment type?\n",
    "\n",
    "from scipy import stats"
   ]
  },
  {
   "cell_type": "code",
   "execution_count": 253,
   "metadata": {},
   "outputs": [
    {
     "data": {
      "text/plain": [
       "Ttest_indResult(statistic=317.7281704944227, pvalue=0.0)"
      ]
     },
     "execution_count": 253,
     "metadata": {},
     "output_type": "execute_result"
    }
   ],
   "source": [
    "# null hypothesis: there is no relationship between total fare amount and payment type, no difference in average total fare amount between payment types.\n",
    "# alternative hypothesis: there is a relationship between total fare amount and payment type, there is a difference in average total fare amount between payment types.\n",
    "\n",
    "# 1. state the null and alternative hypotheses\n",
    "# 2. set the significance level\n",
    "# 3. calculate the test statistic\n",
    "# 4. calculate the p-value\n",
    "# 5. reject or fail to reject the null hypothesis\n",
    "\n",
    "# significance level = 0.05\n",
    "\n",
    "taxi_data = df2\n",
    "taxi_data.groupby('payment_type')['total_amount'].mean()\n",
    "\n",
    "credit_card = taxi_data[taxi_data['payment_type'] == 1]['total_amount']\n",
    "cash = taxi_data[taxi_data['payment_type'] == 2]['total_amount']\n",
    "stats.ttest_ind(credit_card, cash, equal_var=False)"
   ]
  },
  {
   "cell_type": "code",
   "execution_count": 254,
   "metadata": {},
   "outputs": [],
   "source": [
    "# 1. p-value is less than 0.05, so we reject the null hypothesis and conclude that there is a relationship between total fare amount and payment type.\n",
    "# 2. The key business insight is that encouraging customers to pay with credit cards can generate more revenue for taxi cab drivers.\n",
    "# 3. This project requires an assumption that passengers were forced to pay one way or the other, and that once informed of this requirement, they always complied with it. The data was not collected this way; so, an assumption had to be made to randomly group data entries to perform an A/B test. This dataset does not account for other likely explanations. For example, riders might not carry lots of cash, so it's easier to pay for longer/farther trips with a credit card. In other words, it's far more likely that fare amount determines payment type, rather than vice versa. The difference between average card payment fare and cash fare is inflated, because we use the total amount as the comparing variable. But cash fares all have tip values of $0, while card payments have non-zero values. A possible reason for this occurance is because cash tips aren't declared. In turn, this means that we capture tips in one group but not in the other. Instead, one could compare the `fare_amount` column."
   ]
  },
  {
   "cell_type": "code",
   "execution_count": 255,
   "metadata": {},
   "outputs": [],
   "source": [
    "# importing packages required for the linear regression model\n",
    "from sklearn.linear_model import LinearRegression\n",
    "from sklearn.model_selection import train_test_split\n",
    "from sklearn.preprocessing import StandardScaler\n",
    "from sklearn.metrics import mean_squared_error, r2_score, mean_absolute_error\n",
    "import sklearn.metrics as metrics\n",
    "\n",
    "from datetime import datetime\n",
    "from datetime import timedelta\n",
    "from datetime import date\n"
   ]
  },
  {
   "cell_type": "code",
   "execution_count": 256,
   "metadata": {},
   "outputs": [
    {
     "name": "stdout",
     "output_type": "stream",
     "text": [
      "shape of datafram:  (6142173, 21)\n"
     ]
    },
    {
     "name": "stdout",
     "output_type": "stream",
     "text": [
      "shape of the dataframe with duplicated rows removed:  (6142173, 21)\n",
      "Total number of missing values in the dataframe:  0\n",
      "Missing values in each column: \n"
     ]
    },
    {
     "data": {
      "text/plain": [
       "VendorID                 0\n",
       "tpep_pickup_datetime     0\n",
       "tpep_dropoff_datetime    0\n",
       "passenger_count          0\n",
       "trip_distance            0\n",
       "RatecodeID               0\n",
       "store_and_fwd_flag       0\n",
       "PULocationID             0\n",
       "DOLocationID             0\n",
       "payment_type             0\n",
       "fare_amount              0\n",
       "extra                    0\n",
       "mta_tax                  0\n",
       "tip_amount               0\n",
       "tolls_amount             0\n",
       "improvement_surcharge    0\n",
       "total_amount             0\n",
       "congestion_surcharge     0\n",
       "trip_duration            0\n",
       "dtype: int64"
      ]
     },
     "execution_count": 256,
     "metadata": {},
     "output_type": "execute_result"
    }
   ],
   "source": [
    "print('shape of datafram: ', df2.shape)\n",
    "print('shape of the dataframe with duplicated rows removed: ', df2.drop_duplicates().shape)\n",
    "\n",
    "print('Total number of missing values in the dataframe: ', df2.isnull().sum().sum())\n",
    "\n",
    "print('Missing values in each column: ')\n",
    "df.isna().sum()"
   ]
  },
  {
   "cell_type": "code",
   "execution_count": 257,
   "metadata": {},
   "outputs": [
    {
     "data": {
      "text/plain": [
       "Timestamp('2020-01-01 00:33:03')"
      ]
     },
     "execution_count": 257,
     "metadata": {},
     "output_type": "execute_result"
    }
   ],
   "source": [
    "df['tpep_dropoff_datetime'][0]"
   ]
  },
  {
   "cell_type": "code",
   "execution_count": 258,
   "metadata": {},
   "outputs": [
    {
     "name": "stdout",
     "output_type": "stream",
     "text": [
      "Data type of tpep_dropoff_datetime:  datetime64[ns]\n",
      "Data type of tpep_pickup_datetime:  datetime64[ns]\n",
      "Data type of tpep_dropoff_datetime:  datetime64[ns]\n",
      "Data type of tpep_pickup_datetime:  datetime64[ns]\n"
     ]
    }
   ],
   "source": [
    "print('Data type of tpep_dropoff_datetime: ', df2['tpep_dropoff_datetime'].dtype)\n",
    "print('Data type of tpep_pickup_datetime: ', df2['tpep_pickup_datetime'].dtype)\n",
    "\n",
    "df2['tpep_dropoff_datetime'] = pd.to_datetime(df2['tpep_dropoff_datetime'], format='%m/%d/%Y %I:%M:%S %p')\n",
    "df['tpep_pickup_datetime'] = pd.to_datetime(df2['tpep_pickup_datetime'], format='%m/%d/%Y %I:%M:%S %p')\n",
    "\n",
    "print('Data type of tpep_dropoff_datetime: ', df2['tpep_dropoff_datetime'].dtype)\n",
    "print('Data type of tpep_pickup_datetime: ', df2['tpep_pickup_datetime'].dtype)"
   ]
  },
  {
   "cell_type": "code",
   "execution_count": 259,
   "metadata": {},
   "outputs": [],
   "source": [
    "df2['duration'] = (df2['tpep_dropoff_datetime'] - df2['tpep_pickup_datetime'])/np.timedelta64(1,'m')"
   ]
  },
  {
   "cell_type": "code",
   "execution_count": 260,
   "metadata": {},
   "outputs": [
    {
     "name": "stdout",
     "output_type": "stream",
     "text": [
      "<class 'pandas.core.frame.DataFrame'>\n",
      "Int64Index: 6142173 entries, 0 to 6339565\n",
      "Data columns (total 22 columns):\n",
      " #   Column                 Dtype          \n",
      "---  ------                 -----          \n",
      " 0   VendorID               float64        \n",
      " 1   tpep_pickup_datetime   datetime64[ns] \n",
      " 2   tpep_dropoff_datetime  datetime64[ns] \n",
      " 3   passenger_count        float64        \n",
      " 4   trip_distance          float64        \n",
      " 5   RatecodeID             float64        \n",
      " 6   store_and_fwd_flag     object         \n",
      " 7   PULocationID           int64          \n",
      " 8   DOLocationID           int64          \n",
      " 9   payment_type           float64        \n",
      " 10  fare_amount            float64        \n",
      " 11  extra                  float64        \n",
      " 12  mta_tax                float64        \n",
      " 13  tip_amount             float64        \n",
      " 14  tolls_amount           float64        \n",
      " 15  improvement_surcharge  float64        \n",
      " 16  total_amount           float64        \n",
      " 17  congestion_surcharge   float64        \n",
      " 18  month                  object         \n",
      " 19  day                    object         \n",
      " 20  trip_duration          timedelta64[ns]\n",
      " 21  duration               float64        \n",
      "dtypes: datetime64[ns](2), float64(14), int64(2), object(3), timedelta64[ns](1)\n",
      "memory usage: 1.2+ GB\n"
     ]
    }
   ],
   "source": [
    "df2.info()"
   ]
  },
  {
   "cell_type": "code",
   "execution_count": 261,
   "metadata": {},
   "outputs": [
    {
     "name": "stdout",
     "output_type": "stream",
     "text": [
      "<class 'pandas.core.frame.DataFrame'>\n",
      "Int64Index: 6142173 entries, 0 to 6339565\n",
      "Data columns (total 22 columns):\n",
      " #   Column                 Dtype          \n",
      "---  ------                 -----          \n",
      " 0   VendorID               int32          \n",
      " 1   tpep_pickup_datetime   datetime64[ns] \n",
      " 2   tpep_dropoff_datetime  datetime64[ns] \n",
      " 3   passenger_count        int32          \n",
      " 4   trip_distance          float64        \n",
      " 5   RatecodeID             int32          \n",
      " 6   store_and_fwd_flag     object         \n",
      " 7   PULocationID           int64          \n",
      " 8   DOLocationID           int64          \n",
      " 9   payment_type           int32          \n",
      " 10  fare_amount            float64        \n",
      " 11  extra                  float64        \n",
      " 12  mta_tax                float64        \n",
      " 13  tip_amount             float64        \n",
      " 14  tolls_amount           float64        \n",
      " 15  improvement_surcharge  float64        \n",
      " 16  total_amount           float64        \n",
      " 17  congestion_surcharge   float64        \n",
      " 18  month                  object         \n",
      " 19  day                    object         \n",
      " 20  trip_duration          timedelta64[ns]\n",
      " 21  duration               float64        \n",
      "dtypes: datetime64[ns](2), float64(10), int32(4), int64(2), object(3), timedelta64[ns](1)\n",
      "memory usage: 1.1+ GB\n"
     ]
    }
   ],
   "source": [
    "# convert vendor ID to int, passenger count to int, payment type to int, rate code ID to int\n",
    "df2['VendorID'] = df2['VendorID'].astype(int)\n",
    "df2['passenger_count'] = df2['passenger_count'].astype(int)\n",
    "df2['payment_type'] = df2['payment_type'].astype(int)\n",
    "df2['RatecodeID'] = df2['RatecodeID'].astype(int)\n",
    "df2.info()"
   ]
  },
  {
   "cell_type": "code",
   "execution_count": 262,
   "metadata": {},
   "outputs": [
    {
     "data": {
      "image/png": "[encoded data removed]",
      "text/plain": [
       "<Figure size 2000x1000 with 3 Axes>"
      ]
     },
     "metadata": {},
     "output_type": "display_data"
    }
   ],
   "source": [
    "# important features for the model are fare_amount, trip_distance, duration\n",
    "\n",
    "# create a box plot for each feature fare_amount, trip_distance, duration\n",
    "plt.figure(figsize=(20,10))\n",
    "plt.subplot(1,3,1)\n",
    "sns.boxplot(y=df2['fare_amount'])\n",
    "plt.subplot(1,3,2)\n",
    "sns.boxplot(y=df2['trip_distance'])\n",
    "plt.subplot(1,3,3)\n",
    "sns.boxplot(y=df2['duration'])\n",
    "plt.show()"
   ]
  },
  {
   "cell_type": "code",
   "execution_count": 263,
   "metadata": {},
   "outputs": [
    {
     "data": {
      "text/plain": [
       "0"
      ]
     },
     "execution_count": 263,
     "metadata": {},
     "output_type": "execute_result"
    }
   ],
   "source": [
    "sum(df['trip_distance'] == 0)"
   ]
  },
  {
   "cell_type": "code",
   "execution_count": 264,
   "metadata": {},
   "outputs": [],
   "source": [
    "# keep only data with less than 50 miles trip distance\n",
    "df2 = df2[df2['trip_distance'] < 50]"
   ]
  },
  {
   "cell_type": "code",
   "execution_count": 265,
   "metadata": {},
   "outputs": [
    {
     "data": {
      "text/plain": [
       "count    6.141805e+06\n",
       "mean     1.239486e+01\n",
       "std      1.112718e+01\n",
       "min      0.000000e+00\n",
       "25%      6.500000e+00\n",
       "50%      9.000000e+00\n",
       "75%      1.350000e+01\n",
       "max      4.265000e+03\n",
       "Name: fare_amount, dtype: float64"
      ]
     },
     "execution_count": 265,
     "metadata": {},
     "output_type": "execute_result"
    }
   ],
   "source": [
    "df2['fare_amount'].describe()"
   ]
  },
  {
   "cell_type": "code",
   "execution_count": 266,
   "metadata": {},
   "outputs": [
    {
     "data": {
      "text/plain": [
       "0.0"
      ]
     },
     "execution_count": 266,
     "metadata": {},
     "output_type": "execute_result"
    }
   ],
   "source": [
    "df2['fare_amount'].min()"
   ]
  },
  {
   "cell_type": "code",
   "execution_count": 274,
   "metadata": {},
   "outputs": [],
   "source": [
    "# impute the maximum values as Q3 + 6 * IQR\n",
    "def outlier_imputer(column_list, iqr_factor):\n",
    "    for col in column_list:\n",
    "        # Reassign minimum to zero\n",
    "        df2.loc[df[col] < 0, col] = 0\n",
    "\n",
    "        # Calculate upper threshold\n",
    "        q1 = df2[col].quantile(0.25)\n",
    "        q3 = df2[col].quantile(0.75)\n",
    "        iqr = q3 - q1\n",
    "        upper_threshold = q3 + (iqr_factor * iqr)\n",
    "        print(col)\n",
    "        print('q3:', q3)\n",
    "        print('upper_threshold:', upper_threshold)\n",
    "\n",
    "        # Reassign values > threshold to threshold\n",
    "        df2.loc[df2[col] > upper_threshold, col] = upper_threshold\n",
    "        print(df2[col].describe())\n",
    "        print()"
   ]
  },
  {
   "cell_type": "code",
   "execution_count": 275,
   "metadata": {},
   "outputs": [
    {
     "name": "stdout",
     "output_type": "stream",
     "text": [
      "fare_amount\n",
      "q3: 13.5\n",
      "upper_threshold: 55.5\n",
      "count    6.141805e+06\n",
      "mean     1.227914e+01\n",
      "std      1.023413e+01\n",
      "min      0.000000e+00\n",
      "25%      6.500000e+00\n",
      "50%      9.000000e+00\n",
      "75%      1.350000e+01\n",
      "max      5.550000e+01\n",
      "Name: fare_amount, dtype: float64\n",
      "\n"
     ]
    }
   ],
   "source": [
    "outlier_imputer(['fare_amount'], 6)"
   ]
  },
  {
   "cell_type": "code",
   "execution_count": 276,
   "metadata": {},
   "outputs": [
    {
     "data": {
      "text/plain": [
       "count    6.141805e+06\n",
       "mean     1.594032e+01\n",
       "std      6.410605e+01\n",
       "min      0.000000e+00\n",
       "25%      6.433333e+00\n",
       "50%      1.046667e+01\n",
       "75%      1.668333e+01\n",
       "max      8.525117e+03\n",
       "Name: duration, dtype: float64"
      ]
     },
     "execution_count": 276,
     "metadata": {},
     "output_type": "execute_result"
    }
   ],
   "source": [
    "df2['duration'].describe()"
   ]
  },
  {
   "cell_type": "code",
   "execution_count": 277,
   "metadata": {},
   "outputs": [
    {
     "data": {
      "text/plain": [
       "0.0"
      ]
     },
     "execution_count": 277,
     "metadata": {},
     "output_type": "execute_result"
    }
   ],
   "source": [
    "# impute all the negative values with zero\n",
    "df2.loc[df2['duration'] < 0, 'duration'] = 0\n",
    "df2['duration'].min()"
   ]
  },
  {
   "cell_type": "code",
   "execution_count": 278,
   "metadata": {},
   "outputs": [
    {
     "data": {
      "text/plain": [
       "count    6.141805e+06\n",
       "mean     1.594032e+01\n",
       "std      6.410605e+01\n",
       "min      0.000000e+00\n",
       "25%      6.433333e+00\n",
       "50%      1.046667e+01\n",
       "75%      1.668333e+01\n",
       "max      8.525117e+03\n",
       "Name: duration, dtype: float64"
      ]
     },
     "execution_count": 278,
     "metadata": {},
     "output_type": "execute_result"
    }
   ],
   "source": [
    "df2['duration'].describe()"
   ]
  },
  {
   "cell_type": "code",
   "execution_count": 279,
   "metadata": {},
   "outputs": [
    {
     "data": {
      "text/plain": [
       "Index(['VendorID', 'tpep_pickup_datetime', 'tpep_dropoff_datetime',\n",
       "       'passenger_count', 'trip_distance', 'RatecodeID', 'store_and_fwd_flag',\n",
       "       'PULocationID', 'DOLocationID', 'payment_type', 'fare_amount', 'extra',\n",
       "       'mta_tax', 'tip_amount', 'tolls_amount', 'improvement_surcharge',\n",
       "       'total_amount', 'congestion_surcharge', 'month', 'day', 'trip_duration',\n",
       "       'duration'],\n",
       "      dtype='object')"
      ]
     },
     "execution_count": 279,
     "metadata": {},
     "output_type": "execute_result"
    }
   ],
   "source": [
    "df2.columns"
   ]
  },
  {
   "cell_type": "code",
   "execution_count": null,
   "metadata": {},
   "outputs": [],
   "source": []
  }
 ],
 "metadata": {
  "kernelspec": {
   "display_name": "base",
   "language": "python",
   "name": "python3"
  },
  "language_info": {
   "codemirror_mode": {
    "name": "ipython",
    "version": 3
   },
   "file_extension": ".py",
   "mimetype": "text/x-python",
   "name": "python",
   "nbconvert_exporter": "python",
   "pygments_lexer": "ipython3",
   "version": "3.10.9"
  },
  "orig_nbformat": 4
 },
 "nbformat": 4,
 "nbformat_minor": 2
}
